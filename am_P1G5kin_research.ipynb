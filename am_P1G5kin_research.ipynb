{
 "cells": [
  {
   "cell_type": "code",
   "execution_count": 1,
   "metadata": {},
   "outputs": [],
   "source": [
    "#am_P1G5kin_Research"
   ]
  },
  {
   "cell_type": "code",
   "execution_count": 1,
   "metadata": {},
   "outputs": [],
   "source": [
    "#Imports\n",
    "import matplotlib.pyplot as plt\n",
    "import pandas as pd\n",
    "import numpy as np\n",
    "import csv\n"
   ]
  },
  {
   "cell_type": "code",
   "execution_count": 2,
   "metadata": {},
   "outputs": [],
   "source": [
    "#read csv\n",
    "am_p1g5kin = pd.read_csv(\"am_p1g5kin_data.csv\")"
   ]
  },
  {
   "cell_type": "code",
   "execution_count": 13,
   "metadata": {},
   "outputs": [
    {
     "data": {
      "text/html": [
       "<div>\n",
       "<style scoped>\n",
       "    .dataframe tbody tr th:only-of-type {\n",
       "        vertical-align: middle;\n",
       "    }\n",
       "\n",
       "    .dataframe tbody tr th {\n",
       "        vertical-align: top;\n",
       "    }\n",
       "\n",
       "    .dataframe thead th {\n",
       "        text-align: right;\n",
       "    }\n",
       "</style>\n",
       "<table border=\"1\" class=\"dataframe\">\n",
       "  <thead>\n",
       "    <tr style=\"text-align: right;\">\n",
       "      <th></th>\n",
       "      <th>State</th>\n",
       "      <th>W Avg Temp</th>\n",
       "      <th>W Sun Hours</th>\n",
       "      <th>W Precip per Mo</th>\n",
       "      <th>W Season Avg</th>\n",
       "      <th>Annual Snow</th>\n",
       "      <th>W Snow Season</th>\n",
       "      <th>Sp Avg Temp</th>\n",
       "      <th>Sp Sun Hours</th>\n",
       "      <th>Sp Precip per Mo</th>\n",
       "      <th>...</th>\n",
       "      <th>F Precip per Mo</th>\n",
       "      <th>F Season Avg</th>\n",
       "      <th>F Snow Season</th>\n",
       "      <th>Rank in Flatness</th>\n",
       "      <th>square miles</th>\n",
       "      <th>No of Pro Teams</th>\n",
       "      <th>First Pro Game</th>\n",
       "      <th>First College FB game</th>\n",
       "      <th>No of college programs</th>\n",
       "      <th>No of HS Programs</th>\n",
       "    </tr>\n",
       "  </thead>\n",
       "  <tbody>\n",
       "    <tr>\n",
       "      <th>0</th>\n",
       "      <td>CA</td>\n",
       "      <td>41.5</td>\n",
       "      <td>698</td>\n",
       "      <td>3.79</td>\n",
       "      <td>11.37</td>\n",
       "      <td>3.76</td>\n",
       "      <td>1.880</td>\n",
       "      <td>57.1</td>\n",
       "      <td>788</td>\n",
       "      <td>1.93</td>\n",
       "      <td>...</td>\n",
       "      <td>1.47</td>\n",
       "      <td>4.41</td>\n",
       "      <td>0.9400</td>\n",
       "      <td>24</td>\n",
       "      <td>155973</td>\n",
       "      <td>4</td>\n",
       "      <td>1946.0</td>\n",
       "      <td>1885</td>\n",
       "      <td>20</td>\n",
       "      <td>1017</td>\n",
       "    </tr>\n",
       "    <tr>\n",
       "      <th>1</th>\n",
       "      <td>FL</td>\n",
       "      <td>59.4</td>\n",
       "      <td>594</td>\n",
       "      <td>3.17</td>\n",
       "      <td>9.51</td>\n",
       "      <td>0.01</td>\n",
       "      <td>0.005</td>\n",
       "      <td>69.9</td>\n",
       "      <td>881</td>\n",
       "      <td>3.63</td>\n",
       "      <td>...</td>\n",
       "      <td>4.24</td>\n",
       "      <td>12.72</td>\n",
       "      <td>0.0025</td>\n",
       "      <td>1</td>\n",
       "      <td>53997</td>\n",
       "      <td>3</td>\n",
       "      <td>1926.0</td>\n",
       "      <td>1901</td>\n",
       "      <td>20</td>\n",
       "      <td>602</td>\n",
       "    </tr>\n",
       "    <tr>\n",
       "      <th>2</th>\n",
       "      <td>TX</td>\n",
       "      <td>47.9</td>\n",
       "      <td>535</td>\n",
       "      <td>1.69</td>\n",
       "      <td>5.07</td>\n",
       "      <td>1.36</td>\n",
       "      <td>0.680</td>\n",
       "      <td>65.1</td>\n",
       "      <td>772</td>\n",
       "      <td>2.50</td>\n",
       "      <td>...</td>\n",
       "      <td>2.71</td>\n",
       "      <td>8.13</td>\n",
       "      <td>0.3400</td>\n",
       "      <td>8</td>\n",
       "      <td>261914</td>\n",
       "      <td>2</td>\n",
       "      <td>1952.0</td>\n",
       "      <td>1894</td>\n",
       "      <td>41</td>\n",
       "      <td>1062</td>\n",
       "    </tr>\n",
       "    <tr>\n",
       "      <th>3</th>\n",
       "      <td>GA</td>\n",
       "      <td>47.8</td>\n",
       "      <td>554</td>\n",
       "      <td>4.55</td>\n",
       "      <td>13.65</td>\n",
       "      <td>0.76</td>\n",
       "      <td>0.380</td>\n",
       "      <td>63.1</td>\n",
       "      <td>849</td>\n",
       "      <td>4.16</td>\n",
       "      <td>...</td>\n",
       "      <td>3.47</td>\n",
       "      <td>10.41</td>\n",
       "      <td>0.1900</td>\n",
       "      <td>16</td>\n",
       "      <td>57919</td>\n",
       "      <td>1</td>\n",
       "      <td>1965.0</td>\n",
       "      <td>1892</td>\n",
       "      <td>18</td>\n",
       "      <td>432</td>\n",
       "    </tr>\n",
       "    <tr>\n",
       "      <th>4</th>\n",
       "      <td>OH</td>\n",
       "      <td>29.5</td>\n",
       "      <td>321</td>\n",
       "      <td>2.56</td>\n",
       "      <td>7.68</td>\n",
       "      <td>27.50</td>\n",
       "      <td>13.750</td>\n",
       "      <td>49.7</td>\n",
       "      <td>607</td>\n",
       "      <td>3.53</td>\n",
       "      <td>...</td>\n",
       "      <td>2.95</td>\n",
       "      <td>8.85</td>\n",
       "      <td>6.8750</td>\n",
       "      <td>19</td>\n",
       "      <td>40953</td>\n",
       "      <td>2</td>\n",
       "      <td>1920.0</td>\n",
       "      <td>1888</td>\n",
       "      <td>41</td>\n",
       "      <td>699</td>\n",
       "    </tr>\n",
       "    <tr>\n",
       "      <th>5</th>\n",
       "      <td>NH</td>\n",
       "      <td>21.1</td>\n",
       "      <td>469</td>\n",
       "      <td>3.16</td>\n",
       "      <td>9.48</td>\n",
       "      <td>71.44</td>\n",
       "      <td>35.720</td>\n",
       "      <td>42.4</td>\n",
       "      <td>692</td>\n",
       "      <td>3.54</td>\n",
       "      <td>...</td>\n",
       "      <td>3.84</td>\n",
       "      <td>11.52</td>\n",
       "      <td>17.8600</td>\n",
       "      <td>48</td>\n",
       "      <td>8969</td>\n",
       "      <td>0</td>\n",
       "      <td>NaN</td>\n",
       "      <td>1882</td>\n",
       "      <td>5</td>\n",
       "      <td>57</td>\n",
       "    </tr>\n",
       "    <tr>\n",
       "      <th>6</th>\n",
       "      <td>ME</td>\n",
       "      <td>16.8</td>\n",
       "      <td>479</td>\n",
       "      <td>3.15</td>\n",
       "      <td>9.45</td>\n",
       "      <td>77.44</td>\n",
       "      <td>38.720</td>\n",
       "      <td>39.1</td>\n",
       "      <td>662</td>\n",
       "      <td>3.49</td>\n",
       "      <td>...</td>\n",
       "      <td>3.71</td>\n",
       "      <td>11.13</td>\n",
       "      <td>19.3600</td>\n",
       "      <td>43</td>\n",
       "      <td>30865</td>\n",
       "      <td>0</td>\n",
       "      <td>NaN</td>\n",
       "      <td>1875</td>\n",
       "      <td>7</td>\n",
       "      <td>82</td>\n",
       "    </tr>\n",
       "    <tr>\n",
       "      <th>7</th>\n",
       "      <td>RI</td>\n",
       "      <td>31.4</td>\n",
       "      <td>493</td>\n",
       "      <td>4.12</td>\n",
       "      <td>12.36</td>\n",
       "      <td>38.85</td>\n",
       "      <td>19.425</td>\n",
       "      <td>47.4</td>\n",
       "      <td>696</td>\n",
       "      <td>4.23</td>\n",
       "      <td>...</td>\n",
       "      <td>4.04</td>\n",
       "      <td>12.12</td>\n",
       "      <td>9.7125</td>\n",
       "      <td>26</td>\n",
       "      <td>1034</td>\n",
       "      <td>0</td>\n",
       "      <td>NaN</td>\n",
       "      <td>1892</td>\n",
       "      <td>4</td>\n",
       "      <td>42</td>\n",
       "    </tr>\n",
       "    <tr>\n",
       "      <th>8</th>\n",
       "      <td>AK</td>\n",
       "      <td>2.6</td>\n",
       "      <td>255</td>\n",
       "      <td>1.61</td>\n",
       "      <td>4.83</td>\n",
       "      <td>64.46</td>\n",
       "      <td>32.230</td>\n",
       "      <td>24.7</td>\n",
       "      <td>720</td>\n",
       "      <td>1.15</td>\n",
       "      <td>...</td>\n",
       "      <td>2.49</td>\n",
       "      <td>7.47</td>\n",
       "      <td>16.1150</td>\n",
       "      <td>50</td>\n",
       "      <td>570670</td>\n",
       "      <td>0</td>\n",
       "      <td>NaN</td>\n",
       "      <td>1949</td>\n",
       "      <td>0</td>\n",
       "      <td>32</td>\n",
       "    </tr>\n",
       "    <tr>\n",
       "      <th>9</th>\n",
       "      <td>VT</td>\n",
       "      <td>19.4</td>\n",
       "      <td>365</td>\n",
       "      <td>2.85</td>\n",
       "      <td>8.55</td>\n",
       "      <td>89.25</td>\n",
       "      <td>44.625</td>\n",
       "      <td>41.5</td>\n",
       "      <td>648</td>\n",
       "      <td>3.40</td>\n",
       "      <td>...</td>\n",
       "      <td>3.77</td>\n",
       "      <td>11.31</td>\n",
       "      <td>22.3125</td>\n",
       "      <td>49</td>\n",
       "      <td>9249</td>\n",
       "      <td>0</td>\n",
       "      <td>NaN</td>\n",
       "      <td>1886</td>\n",
       "      <td>3</td>\n",
       "      <td>22</td>\n",
       "    </tr>\n",
       "  </tbody>\n",
       "</table>\n",
       "<p>10 rows × 29 columns</p>\n",
       "</div>"
      ],
      "text/plain": [
       "  State  W Avg Temp  W Sun Hours  W Precip per Mo  W Season Avg  Annual Snow  \\\n",
       "0    CA        41.5          698             3.79         11.37         3.76   \n",
       "1    FL        59.4          594             3.17          9.51         0.01   \n",
       "2    TX        47.9          535             1.69          5.07         1.36   \n",
       "3    GA        47.8          554             4.55         13.65         0.76   \n",
       "4    OH        29.5          321             2.56          7.68        27.50   \n",
       "5    NH        21.1          469             3.16          9.48        71.44   \n",
       "6    ME        16.8          479             3.15          9.45        77.44   \n",
       "7    RI        31.4          493             4.12         12.36        38.85   \n",
       "8    AK         2.6          255             1.61          4.83        64.46   \n",
       "9    VT        19.4          365             2.85          8.55        89.25   \n",
       "\n",
       "   W Snow Season  Sp Avg Temp  Sp Sun Hours  Sp Precip per Mo  ...  \\\n",
       "0          1.880         57.1           788              1.93  ...   \n",
       "1          0.005         69.9           881              3.63  ...   \n",
       "2          0.680         65.1           772              2.50  ...   \n",
       "3          0.380         63.1           849              4.16  ...   \n",
       "4         13.750         49.7           607              3.53  ...   \n",
       "5         35.720         42.4           692              3.54  ...   \n",
       "6         38.720         39.1           662              3.49  ...   \n",
       "7         19.425         47.4           696              4.23  ...   \n",
       "8         32.230         24.7           720              1.15  ...   \n",
       "9         44.625         41.5           648              3.40  ...   \n",
       "\n",
       "   F Precip per Mo  F Season Avg  F Snow Season  Rank in Flatness  \\\n",
       "0             1.47          4.41         0.9400                24   \n",
       "1             4.24         12.72         0.0025                 1   \n",
       "2             2.71          8.13         0.3400                 8   \n",
       "3             3.47         10.41         0.1900                16   \n",
       "4             2.95          8.85         6.8750                19   \n",
       "5             3.84         11.52        17.8600                48   \n",
       "6             3.71         11.13        19.3600                43   \n",
       "7             4.04         12.12         9.7125                26   \n",
       "8             2.49          7.47        16.1150                50   \n",
       "9             3.77         11.31        22.3125                49   \n",
       "\n",
       "   square miles  No of Pro Teams  First Pro Game  First College FB game  \\\n",
       "0        155973                4          1946.0                   1885   \n",
       "1         53997                3          1926.0                   1901   \n",
       "2        261914                2          1952.0                   1894   \n",
       "3         57919                1          1965.0                   1892   \n",
       "4         40953                2          1920.0                   1888   \n",
       "5          8969                0             NaN                   1882   \n",
       "6         30865                0             NaN                   1875   \n",
       "7          1034                0             NaN                   1892   \n",
       "8        570670                0             NaN                   1949   \n",
       "9          9249                0             NaN                   1886   \n",
       "\n",
       "   No of college programs  No of HS Programs  \n",
       "0                      20               1017  \n",
       "1                      20                602  \n",
       "2                      41               1062  \n",
       "3                      18                432  \n",
       "4                      41                699  \n",
       "5                       5                 57  \n",
       "6                       7                 82  \n",
       "7                       4                 42  \n",
       "8                       0                 32  \n",
       "9                       3                 22  \n",
       "\n",
       "[10 rows x 29 columns]"
      ]
     },
     "execution_count": 13,
     "metadata": {},
     "output_type": "execute_result"
    }
   ],
   "source": [
    "#create data frame\n",
    "am_p1g5kin_df =pd.DataFrame(am_p1g5kin)\n",
    "am_p1g5kin_df"
   ]
  },
  {
   "cell_type": "code",
   "execution_count": 14,
   "metadata": {},
   "outputs": [
    {
     "data": {
      "text/html": [
       "<div>\n",
       "<style scoped>\n",
       "    .dataframe tbody tr th:only-of-type {\n",
       "        vertical-align: middle;\n",
       "    }\n",
       "\n",
       "    .dataframe tbody tr th {\n",
       "        vertical-align: top;\n",
       "    }\n",
       "\n",
       "    .dataframe thead th {\n",
       "        text-align: right;\n",
       "    }\n",
       "</style>\n",
       "<table border=\"1\" class=\"dataframe\">\n",
       "  <thead>\n",
       "    <tr style=\"text-align: right;\">\n",
       "      <th></th>\n",
       "      <th>State</th>\n",
       "      <th>W Avg Temp</th>\n",
       "      <th>Sp Avg Temp</th>\n",
       "      <th>Su Avg Temp</th>\n",
       "      <th>F Avg Temp</th>\n",
       "    </tr>\n",
       "  </thead>\n",
       "  <tbody>\n",
       "    <tr>\n",
       "      <th>0</th>\n",
       "      <td>CA</td>\n",
       "      <td>41.5</td>\n",
       "      <td>57.1</td>\n",
       "      <td>73.4</td>\n",
       "      <td>60.9</td>\n",
       "    </tr>\n",
       "    <tr>\n",
       "      <th>1</th>\n",
       "      <td>FL</td>\n",
       "      <td>59.4</td>\n",
       "      <td>69.9</td>\n",
       "      <td>81.0</td>\n",
       "      <td>72.7</td>\n",
       "    </tr>\n",
       "    <tr>\n",
       "      <th>2</th>\n",
       "      <td>TX</td>\n",
       "      <td>47.9</td>\n",
       "      <td>65.1</td>\n",
       "      <td>81.1</td>\n",
       "      <td>65.5</td>\n",
       "    </tr>\n",
       "    <tr>\n",
       "      <th>3</th>\n",
       "      <td>GA</td>\n",
       "      <td>47.8</td>\n",
       "      <td>63.1</td>\n",
       "      <td>78.7</td>\n",
       "      <td>64.6</td>\n",
       "    </tr>\n",
       "    <tr>\n",
       "      <th>4</th>\n",
       "      <td>OH</td>\n",
       "      <td>29.5</td>\n",
       "      <td>49.7</td>\n",
       "      <td>70.9</td>\n",
       "      <td>52.9</td>\n",
       "    </tr>\n",
       "    <tr>\n",
       "      <th>5</th>\n",
       "      <td>NH</td>\n",
       "      <td>21.1</td>\n",
       "      <td>42.4</td>\n",
       "      <td>65.5</td>\n",
       "      <td>46.3</td>\n",
       "    </tr>\n",
       "    <tr>\n",
       "      <th>6</th>\n",
       "      <td>ME</td>\n",
       "      <td>16.8</td>\n",
       "      <td>39.1</td>\n",
       "      <td>63.7</td>\n",
       "      <td>44.2</td>\n",
       "    </tr>\n",
       "    <tr>\n",
       "      <th>7</th>\n",
       "      <td>RI</td>\n",
       "      <td>31.4</td>\n",
       "      <td>47.4</td>\n",
       "      <td>68.8</td>\n",
       "      <td>53.1</td>\n",
       "    </tr>\n",
       "    <tr>\n",
       "      <th>8</th>\n",
       "      <td>AK</td>\n",
       "      <td>2.6</td>\n",
       "      <td>24.7</td>\n",
       "      <td>52.3</td>\n",
       "      <td>26.7</td>\n",
       "    </tr>\n",
       "    <tr>\n",
       "      <th>9</th>\n",
       "      <td>VT</td>\n",
       "      <td>19.4</td>\n",
       "      <td>41.5</td>\n",
       "      <td>65.1</td>\n",
       "      <td>45.7</td>\n",
       "    </tr>\n",
       "  </tbody>\n",
       "</table>\n",
       "</div>"
      ],
      "text/plain": [
       "  State  W Avg Temp  Sp Avg Temp  Su Avg Temp  F Avg Temp\n",
       "0    CA        41.5         57.1         73.4        60.9\n",
       "1    FL        59.4         69.9         81.0        72.7\n",
       "2    TX        47.9         65.1         81.1        65.5\n",
       "3    GA        47.8         63.1         78.7        64.6\n",
       "4    OH        29.5         49.7         70.9        52.9\n",
       "5    NH        21.1         42.4         65.5        46.3\n",
       "6    ME        16.8         39.1         63.7        44.2\n",
       "7    RI        31.4         47.4         68.8        53.1\n",
       "8    AK         2.6         24.7         52.3        26.7\n",
       "9    VT        19.4         41.5         65.1        45.7"
      ]
     },
     "execution_count": 14,
     "metadata": {},
     "output_type": "execute_result"
    }
   ],
   "source": [
    "#Create new DataFrames from main DF new = old.filter(['A','B','C','D'])\n",
    "\n",
    "temp_df = am_p1g5kin_df.filter(['State','W Avg Temp','Sp Avg Temp', 'Su Avg Temp', 'F Avg Temp'])\n",
    "temp_df\n"
   ]
  },
  {
   "cell_type": "code",
   "execution_count": 15,
   "metadata": {},
   "outputs": [],
   "source": [
    "#AVG TEMPS"
   ]
  },
  {
   "cell_type": "code",
   "execution_count": 16,
   "metadata": {
    "scrolled": true
   },
   "outputs": [
    {
     "data": {
      "image/png": "[encoded data removed]",
      "text/plain": [
       "<Figure size 432x288 with 1 Axes>"
      ]
     },
     "metadata": {
      "needs_background": "light"
     },
     "output_type": "display_data"
    }
   ],
   "source": [
    "# Generate the Plot x axis are seasons y axis are temperatures\n",
    "ax = plt.gca()\n",
    "\n",
    "temp_df.plot(kind='bar',title='Tempuerature by Season', x='State',y='W Avg Temp', color='red',width=0.4,align='edge', ax=ax)\n",
    "temp_df.plot(kind='bar',x='State',y='Sp Avg Temp', color='g',width=0.30, align= 'edge',ax=ax)\n",
    "temp_df.plot(kind='bar',x='State',y='Su Avg Temp', color='purple',width=0.20, align= 'edge',ax=ax)\n",
    "temp_df.plot(kind='bar',x='State',y='F Avg Temp', color='orange',width=0.10, align= 'edge',ax=ax)\n",
    "\n",
    "plt.xlabel(\"State\")\n",
    "plt.ylabel(\"Degrees Fahrenheit\")\n",
    "ax.axhline(32, ls='--', color='black')\n",
    "\n",
    "plt.ylim(0,100)\n",
    "\n",
    "plt.savefig(\"seasonal_temp_bar.png\")\n",
    "plt.show()\n"
   ]
  },
  {
   "cell_type": "code",
   "execution_count": 17,
   "metadata": {},
   "outputs": [
    {
     "data": {
      "image/png": "[encoded data removed]",
      "text/plain": [
       "<Figure size 432x288 with 1 Axes>"
      ]
     },
     "metadata": {
      "needs_background": "light"
     },
     "output_type": "display_data"
    }
   ],
   "source": [
    "ax = plt.gca()\n",
    "\n",
    "temp_df.plot(kind='bar',title='Winter Average Temperature',x='State',y='W Avg Temp', color='blue', ax=ax)\n",
    "plt.ylim(0,100)\n",
    "plt.xlabel(\"State\")\n",
    "plt.ylabel(\"Degrees Fahrenheit\")\n",
    "ax.axhline(32, ls='--', color='black')\n",
    "\n",
    "plt.gca().get_legend().remove()\n",
    "plt.savefig(\"Winter_temp.png\")\n",
    "plt.show()\n",
    "\n"
   ]
  },
  {
   "cell_type": "code",
   "execution_count": 18,
   "metadata": {},
   "outputs": [
    {
     "data": {
      "image/png": "[encoded data removed]",
      "text/plain": [
       "<Figure size 432x288 with 1 Axes>"
      ]
     },
     "metadata": {
      "needs_background": "light"
     },
     "output_type": "display_data"
    }
   ],
   "source": [
    "ax = plt.gca()\n",
    "\n",
    "temp_df.plot(kind='bar',title='Spring Average Temperature',x='State',y='Sp Avg Temp', color='green', ax=ax)\n",
    "plt.ylim(0,100)\n",
    "plt.xlabel(\"State\")\n",
    "plt.ylabel(\"Degrees Fahrenheit\")\n",
    "ax.axhline(32, ls='--', color='black')\n",
    "ax.set_ylabel('Scores')\n",
    "plt.gca().get_legend().remove()\n",
    "plt.savefig(\"Spring_temp.png\")\n",
    "plt.show()\n",
    "\n"
   ]
  },
  {
   "cell_type": "code",
   "execution_count": 19,
   "metadata": {},
   "outputs": [
    {
     "data": {
      "image/png": "[encoded data removed]",
      "text/plain": [
       "<Figure size 432x288 with 1 Axes>"
      ]
     },
     "metadata": {
      "needs_background": "light"
     },
     "output_type": "display_data"
    }
   ],
   "source": [
    "ax = plt.gca()\n",
    "\n",
    "temp_df.plot(kind='bar',title='Summer Average Temperature',x='State',y='Su Avg Temp', color='y', ax=ax)\n",
    "plt.ylim(0,100)\n",
    "plt.xlabel(\"State\")\n",
    "plt.ylabel(\"Degrees Fahrenheit\")\n",
    "ax.axhline(32, ls='--', color='black')\n",
    "plt.gca().get_legend().remove()\n",
    "plt.savefig(\"Summer_temp.png\")\n",
    "plt.show()"
   ]
  },
  {
   "cell_type": "code",
   "execution_count": 20,
   "metadata": {
    "scrolled": true
   },
   "outputs": [
    {
     "data": {
      "image/png": "[encoded data removed]",
      "text/plain": [
       "<Figure size 432x288 with 1 Axes>"
      ]
     },
     "metadata": {
      "needs_background": "light"
     },
     "output_type": "display_data"
    }
   ],
   "source": [
    "ax = plt.gca()\n",
    "\n",
    "temp_df.plot(kind='bar',title='Fall Average Temperature', x='State',y='F Avg Temp', color='red', ax=ax)\n",
    "plt.ylim(0,100)\n",
    "plt.xlabel(\"State\")\n",
    "plt.ylabel(\"Degrees Fahrenheit\")\n",
    "ax.axhline(32, ls='--', color='black')\n",
    "plt.gca().get_legend().remove()\n",
    "plt.savefig(\"Fall_temp.png\")\n",
    "plt.show()"
   ]
  },
  {
   "cell_type": "code",
   "execution_count": 21,
   "metadata": {},
   "outputs": [],
   "source": [
    "# SUN HOURS"
   ]
  },
  {
   "cell_type": "code",
   "execution_count": 22,
   "metadata": {},
   "outputs": [
    {
     "data": {
      "text/html": [
       "<div>\n",
       "<style scoped>\n",
       "    .dataframe tbody tr th:only-of-type {\n",
       "        vertical-align: middle;\n",
       "    }\n",
       "\n",
       "    .dataframe tbody tr th {\n",
       "        vertical-align: top;\n",
       "    }\n",
       "\n",
       "    .dataframe thead th {\n",
       "        text-align: right;\n",
       "    }\n",
       "</style>\n",
       "<table border=\"1\" class=\"dataframe\">\n",
       "  <thead>\n",
       "    <tr style=\"text-align: right;\">\n",
       "      <th></th>\n",
       "      <th>State</th>\n",
       "      <th>W Sun Hours</th>\n",
       "      <th>Sp Sun Hours</th>\n",
       "      <th>Su Sun Hours</th>\n",
       "      <th>F Sun Hours</th>\n",
       "    </tr>\n",
       "  </thead>\n",
       "  <tbody>\n",
       "    <tr>\n",
       "      <th>0</th>\n",
       "      <td>CA</td>\n",
       "      <td>698</td>\n",
       "      <td>788</td>\n",
       "      <td>842</td>\n",
       "      <td>727</td>\n",
       "    </tr>\n",
       "    <tr>\n",
       "      <th>1</th>\n",
       "      <td>FL</td>\n",
       "      <td>594</td>\n",
       "      <td>881</td>\n",
       "      <td>793</td>\n",
       "      <td>659</td>\n",
       "    </tr>\n",
       "    <tr>\n",
       "      <th>2</th>\n",
       "      <td>TX</td>\n",
       "      <td>535</td>\n",
       "      <td>772</td>\n",
       "      <td>935</td>\n",
       "      <td>658</td>\n",
       "    </tr>\n",
       "    <tr>\n",
       "      <th>3</th>\n",
       "      <td>GA</td>\n",
       "      <td>554</td>\n",
       "      <td>849</td>\n",
       "      <td>882</td>\n",
       "      <td>701</td>\n",
       "    </tr>\n",
       "    <tr>\n",
       "      <th>4</th>\n",
       "      <td>OH</td>\n",
       "      <td>321</td>\n",
       "      <td>607</td>\n",
       "      <td>755</td>\n",
       "      <td>499</td>\n",
       "    </tr>\n",
       "    <tr>\n",
       "      <th>5</th>\n",
       "      <td>NH</td>\n",
       "      <td>469</td>\n",
       "      <td>692</td>\n",
       "      <td>832</td>\n",
       "      <td>526</td>\n",
       "    </tr>\n",
       "    <tr>\n",
       "      <th>6</th>\n",
       "      <td>ME</td>\n",
       "      <td>479</td>\n",
       "      <td>662</td>\n",
       "      <td>809</td>\n",
       "      <td>564</td>\n",
       "    </tr>\n",
       "    <tr>\n",
       "      <th>7</th>\n",
       "      <td>RI</td>\n",
       "      <td>493</td>\n",
       "      <td>696</td>\n",
       "      <td>828</td>\n",
       "      <td>590</td>\n",
       "    </tr>\n",
       "    <tr>\n",
       "      <th>8</th>\n",
       "      <td>AK</td>\n",
       "      <td>255</td>\n",
       "      <td>720</td>\n",
       "      <td>729</td>\n",
       "      <td>358</td>\n",
       "    </tr>\n",
       "    <tr>\n",
       "      <th>9</th>\n",
       "      <td>VT</td>\n",
       "      <td>365</td>\n",
       "      <td>648</td>\n",
       "      <td>830</td>\n",
       "      <td>451</td>\n",
       "    </tr>\n",
       "  </tbody>\n",
       "</table>\n",
       "</div>"
      ],
      "text/plain": [
       "  State  W Sun Hours  Sp Sun Hours  Su Sun Hours  F Sun Hours\n",
       "0    CA          698           788           842          727\n",
       "1    FL          594           881           793          659\n",
       "2    TX          535           772           935          658\n",
       "3    GA          554           849           882          701\n",
       "4    OH          321           607           755          499\n",
       "5    NH          469           692           832          526\n",
       "6    ME          479           662           809          564\n",
       "7    RI          493           696           828          590\n",
       "8    AK          255           720           729          358\n",
       "9    VT          365           648           830          451"
      ]
     },
     "execution_count": 22,
     "metadata": {},
     "output_type": "execute_result"
    }
   ],
   "source": [
    "sun_df = am_p1g5kin_df.filter(['State','W Sun Hours','Sp Sun Hours', 'Su Sun Hours', 'F Sun Hours'])\n",
    "sun_df"
   ]
  },
  {
   "cell_type": "code",
   "execution_count": 29,
   "metadata": {},
   "outputs": [
    {
     "data": {
      "image/png": "[encoded data removed]",
      "text/plain": [
       "<Figure size 432x288 with 1 Axes>"
      ]
     },
     "metadata": {
      "needs_background": "light"
     },
     "output_type": "display_data"
    }
   ],
   "source": [
    "# Generate the Plot x axis are seasons y axis are hours\n",
    "\n",
    "\n",
    "ax = plt.gca()\n",
    "\n",
    "sun_df.plot(kind='bar',title='Sun Hours by Season', x='State',y='W Sun Hours', color='red',width=0.4,align='edge', ax=ax)\n",
    "sun_df.plot(kind='bar',x='State',y='Sp Sun Hours', color='g',width=0.30, align= 'edge',ax=ax)\n",
    "sun_df.plot(kind='bar',x='State',y='Su Sun Hours', color='purple',width=0.20, align= 'edge',ax=ax)\n",
    "sun_df.plot(kind='bar',x='State',y='F Sun Hours', color='orange',width=0.10, align= 'edge',ax=ax)\n",
    "\n",
    "plt.xlabel(\"State\")\n",
    "plt.ylabel(\"Hours of Sun\")\n",
    "\n",
    "\n",
    "plt.ylim(0,1000)\n",
    "\n",
    "plt.savefig(\"seasonal_sun_bar.png\")\n",
    "plt.show()\n"
   ]
  },
  {
   "cell_type": "code",
   "execution_count": 30,
   "metadata": {},
   "outputs": [
    {
     "data": {
      "image/png": "[encoded data removed]",
      "text/plain": [
       "<Figure size 432x288 with 1 Axes>"
      ]
     },
     "metadata": {
      "needs_background": "light"
     },
     "output_type": "display_data"
    }
   ],
   "source": [
    "ax = plt.gca()\n",
    "\n",
    "sun_df.plot(kind='bar',title='Winter Sun Hours',x='State',y='W Sun Hours', color='blue', ax=ax)\n",
    "plt.ylim(0,1000)\n",
    "plt.xlabel(\"State\")\n",
    "plt.ylabel(\"Avg Hours of Sun\")\n",
    "plt.gca().get_legend().remove()\n",
    "plt.savefig(\"Winter_sun.png\")\n",
    "plt.show()\n"
   ]
  },
  {
   "cell_type": "code",
   "execution_count": 31,
   "metadata": {},
   "outputs": [
    {
     "data": {
      "image/png": "[encoded data removed]",
      "text/plain": [
       "<Figure size 432x288 with 1 Axes>"
      ]
     },
     "metadata": {
      "needs_background": "light"
     },
     "output_type": "display_data"
    }
   ],
   "source": [
    "ax = plt.gca()\n",
    "\n",
    "sun_df.plot(kind='bar',title='Spring Sun Hours',x='State',y='Sp Sun Hours', color='green', ax=ax)\n",
    "plt.ylim(0,1000)\n",
    "plt.xlabel(\"State\")\n",
    "plt.ylabel(\"Avg Hours of Sun\")\n",
    "plt.gca().get_legend().remove()\n",
    "plt.savefig(\"Spring_sun.png\")\n",
    "plt.show()\n"
   ]
  },
  {
   "cell_type": "code",
   "execution_count": 32,
   "metadata": {},
   "outputs": [
    {
     "data": {
      "image/png": "[encoded data removed]",
      "text/plain": [
       "<Figure size 432x288 with 1 Axes>"
      ]
     },
     "metadata": {
      "needs_background": "light"
     },
     "output_type": "display_data"
    }
   ],
   "source": [
    "ax = plt.gca()\n",
    "\n",
    "sun_df.plot(kind='bar',title='Summer Sun Hours',x='State',y='Su Sun Hours', color='y', ax=ax)\n",
    "plt.ylim(0,1000)\n",
    "plt.xlabel(\"State\")\n",
    "plt.ylabel(\"Avg Hours of Sun\")\n",
    "plt.gca().get_legend().remove()\n",
    "plt.savefig(\"Summer_sun.png\")\n",
    "plt.show()\n"
   ]
  },
  {
   "cell_type": "code",
   "execution_count": 33,
   "metadata": {},
   "outputs": [
    {
     "data": {
      "image/png": "[encoded data removed]",
      "text/plain": [
       "<Figure size 432x288 with 1 Axes>"
      ]
     },
     "metadata": {
      "needs_background": "light"
     },
     "output_type": "display_data"
    }
   ],
   "source": [
    "ax = plt.gca()\n",
    "\n",
    "sun_df.plot(kind='bar',title='Fall Sun Hours',x='State',y='F Sun Hours', color='r', ax=ax)\n",
    "plt.ylim(0,1000)\n",
    "plt.xlabel(\"State\")\n",
    "plt.ylabel(\"Avg Hours of Sun\")\n",
    "plt.gca().get_legend().remove()\n",
    "plt.savefig(\"Fall_sun.png\")\n",
    "plt.show()\n"
   ]
  },
  {
   "cell_type": "code",
   "execution_count": 34,
   "metadata": {},
   "outputs": [],
   "source": [
    "# AVG PRECIPITATION"
   ]
  },
  {
   "cell_type": "code",
   "execution_count": 35,
   "metadata": {},
   "outputs": [
    {
     "data": {
      "text/html": [
       "<div>\n",
       "<style scoped>\n",
       "    .dataframe tbody tr th:only-of-type {\n",
       "        vertical-align: middle;\n",
       "    }\n",
       "\n",
       "    .dataframe tbody tr th {\n",
       "        vertical-align: top;\n",
       "    }\n",
       "\n",
       "    .dataframe thead th {\n",
       "        text-align: right;\n",
       "    }\n",
       "</style>\n",
       "<table border=\"1\" class=\"dataframe\">\n",
       "  <thead>\n",
       "    <tr style=\"text-align: right;\">\n",
       "      <th></th>\n",
       "      <th>State</th>\n",
       "      <th>W Season Avg</th>\n",
       "      <th>Sp Season Avg</th>\n",
       "      <th>Su Season Avg</th>\n",
       "      <th>F Season Avg</th>\n",
       "    </tr>\n",
       "  </thead>\n",
       "  <tbody>\n",
       "    <tr>\n",
       "      <th>0</th>\n",
       "      <td>CA</td>\n",
       "      <td>11.37</td>\n",
       "      <td>5.79</td>\n",
       "      <td>0.81</td>\n",
       "      <td>4.41</td>\n",
       "    </tr>\n",
       "    <tr>\n",
       "      <th>1</th>\n",
       "      <td>FL</td>\n",
       "      <td>9.51</td>\n",
       "      <td>10.89</td>\n",
       "      <td>21.39</td>\n",
       "      <td>12.72</td>\n",
       "    </tr>\n",
       "    <tr>\n",
       "      <th>2</th>\n",
       "      <td>TX</td>\n",
       "      <td>5.07</td>\n",
       "      <td>7.50</td>\n",
       "      <td>8.13</td>\n",
       "      <td>8.13</td>\n",
       "    </tr>\n",
       "    <tr>\n",
       "      <th>3</th>\n",
       "      <td>GA</td>\n",
       "      <td>13.65</td>\n",
       "      <td>12.48</td>\n",
       "      <td>14.13</td>\n",
       "      <td>10.41</td>\n",
       "    </tr>\n",
       "    <tr>\n",
       "      <th>4</th>\n",
       "      <td>OH</td>\n",
       "      <td>7.68</td>\n",
       "      <td>10.59</td>\n",
       "      <td>11.97</td>\n",
       "      <td>8.85</td>\n",
       "    </tr>\n",
       "    <tr>\n",
       "      <th>5</th>\n",
       "      <td>NH</td>\n",
       "      <td>9.48</td>\n",
       "      <td>10.62</td>\n",
       "      <td>11.76</td>\n",
       "      <td>11.52</td>\n",
       "    </tr>\n",
       "    <tr>\n",
       "      <th>6</th>\n",
       "      <td>ME</td>\n",
       "      <td>9.45</td>\n",
       "      <td>10.47</td>\n",
       "      <td>11.13</td>\n",
       "      <td>11.13</td>\n",
       "    </tr>\n",
       "    <tr>\n",
       "      <th>7</th>\n",
       "      <td>RI</td>\n",
       "      <td>12.36</td>\n",
       "      <td>12.69</td>\n",
       "      <td>10.71</td>\n",
       "      <td>12.12</td>\n",
       "    </tr>\n",
       "    <tr>\n",
       "      <th>8</th>\n",
       "      <td>AK</td>\n",
       "      <td>4.83</td>\n",
       "      <td>3.45</td>\n",
       "      <td>6.78</td>\n",
       "      <td>7.47</td>\n",
       "    </tr>\n",
       "    <tr>\n",
       "      <th>9</th>\n",
       "      <td>VT</td>\n",
       "      <td>8.55</td>\n",
       "      <td>10.20</td>\n",
       "      <td>12.63</td>\n",
       "      <td>11.31</td>\n",
       "    </tr>\n",
       "  </tbody>\n",
       "</table>\n",
       "</div>"
      ],
      "text/plain": [
       "  State  W Season Avg  Sp Season Avg  Su Season Avg  F Season Avg\n",
       "0    CA         11.37           5.79           0.81          4.41\n",
       "1    FL          9.51          10.89          21.39         12.72\n",
       "2    TX          5.07           7.50           8.13          8.13\n",
       "3    GA         13.65          12.48          14.13         10.41\n",
       "4    OH          7.68          10.59          11.97          8.85\n",
       "5    NH          9.48          10.62          11.76         11.52\n",
       "6    ME          9.45          10.47          11.13         11.13\n",
       "7    RI         12.36          12.69          10.71         12.12\n",
       "8    AK          4.83           3.45           6.78          7.47\n",
       "9    VT          8.55          10.20          12.63         11.31"
      ]
     },
     "execution_count": 35,
     "metadata": {},
     "output_type": "execute_result"
    }
   ],
   "source": [
    "precip_df = am_p1g5kin_df.filter(['State','W Season Avg','Sp Season Avg', 'Su Season Avg', 'F Season Avg'])\n",
    "precip_df"
   ]
  },
  {
   "cell_type": "code",
   "execution_count": 38,
   "metadata": {},
   "outputs": [
    {
     "data": {
      "image/png": "[encoded data removed]",
      "text/plain": [
       "<Figure size 432x288 with 1 Axes>"
      ]
     },
     "metadata": {
      "needs_background": "light"
     },
     "output_type": "display_data"
    }
   ],
   "source": [
    "# Generate the Plot x axis are seasons y axis are inches\n",
    "ax = plt.gca()\n",
    "\n",
    "precip_df.plot(kind='bar',title='Precipitation by Season', x='State',y='W Season Avg', color='red',width=0.4,align='edge', ax=ax)\n",
    "precip_df.plot(kind='bar',x='State',y='Sp Season Avg', color='g',width=0.30, align= 'edge',ax=ax)\n",
    "precip_df.plot(kind='bar',x='State',y='Su Season Avg', color='purple',width=0.20, align= 'edge',ax=ax)\n",
    "precip_df.plot(kind='bar',x='State',y='F Season Avg', color='orange',width=0.10, align= 'edge',ax=ax)\n",
    "\n",
    "plt.xlabel(\"State\")\n",
    "plt.ylabel(\"Inches of Precipitation\")\n",
    "\n",
    "\n",
    "plt.ylim(0,50)\n",
    "\n",
    "plt.savefig(\"seasonal_precip_bar.png\")\n",
    "plt.show()\n"
   ]
  },
  {
   "cell_type": "code",
   "execution_count": 36,
   "metadata": {},
   "outputs": [
    {
     "data": {
      "image/png": "[encoded data removed]",
      "text/plain": [
       "<Figure size 432x288 with 1 Axes>"
      ]
     },
     "metadata": {
      "needs_background": "light"
     },
     "output_type": "display_data"
    }
   ],
   "source": [
    "ax = plt.gca()\n",
    "\n",
    "precip_df.plot(kind='bar',title='Winter Precipitation',x='State',y='W Season Avg', color='blue', ax=ax)\n",
    "plt.ylim(0,25)\n",
    "plt.xlabel(\"State\")\n",
    "plt.ylabel(\"Inches of Precipitaion\")\n",
    "plt.gca().get_legend().remove()\n",
    "plt.savefig(\"Winter_precip.png\")\n",
    "plt.show()\n"
   ]
  },
  {
   "cell_type": "code",
   "execution_count": 37,
   "metadata": {},
   "outputs": [
    {
     "data": {
      "image/png": "[encoded data removed]",
      "text/plain": [
       "<Figure size 432x288 with 1 Axes>"
      ]
     },
     "metadata": {
      "needs_background": "light"
     },
     "output_type": "display_data"
    }
   ],
   "source": [
    "ax = plt.gca()\n",
    "\n",
    "precip_df.plot(kind='bar',title='Spring Precipitation',x='State',y='Sp Season Avg', color='green', ax=ax)\n",
    "plt.ylim(0,25)\n",
    "plt.xlabel(\"State\")\n",
    "plt.ylabel(\"Inches of Precipitaion\")\n",
    "plt.gca().get_legend().remove()\n",
    "plt.savefig(\"Spring_precip.png\")\n",
    "plt.show()\n"
   ]
  },
  {
   "cell_type": "code",
   "execution_count": 38,
   "metadata": {},
   "outputs": [
    {
     "data": {
      "image/png": "[encoded data removed]",
      "text/plain": [
       "<Figure size 432x288 with 1 Axes>"
      ]
     },
     "metadata": {
      "needs_background": "light"
     },
     "output_type": "display_data"
    }
   ],
   "source": [
    "ax = plt.gca()\n",
    "\n",
    "precip_df.plot(kind='bar',title='Summer Precipitation',x='State',y='Su Season Avg', color='y', ax=ax)\n",
    "plt.ylim(0,25)\n",
    "plt.xlabel(\"State\")\n",
    "plt.ylabel(\"Inches of Precipitaion\")\n",
    "plt.gca().get_legend().remove()\n",
    "plt.savefig(\"Summer_precip.png\")\n",
    "plt.show()\n"
   ]
  },
  {
   "cell_type": "code",
   "execution_count": 39,
   "metadata": {},
   "outputs": [
    {
     "data": {
      "image/png": "[encoded data removed]",
      "text/plain": [
       "<Figure size 432x288 with 1 Axes>"
      ]
     },
     "metadata": {
      "needs_background": "light"
     },
     "output_type": "display_data"
    }
   ],
   "source": [
    "ax = plt.gca()\n",
    "\n",
    "precip_df.plot(kind='bar',title='Fall Precipitation',x='State',y='F Season Avg', color='r', ax=ax)\n",
    "plt.ylim(0,25)\n",
    "plt.xlabel(\"State\")\n",
    "plt.ylabel(\"Inches of Precipitaion\")\n",
    "plt.gca().get_legend().remove()\n",
    "plt.savefig(\"Fall_precip.png\")\n",
    "plt.show()\n"
   ]
  },
  {
   "cell_type": "code",
   "execution_count": 40,
   "metadata": {},
   "outputs": [],
   "source": [
    "# Avg Snow Fall"
   ]
  },
  {
   "cell_type": "code",
   "execution_count": 41,
   "metadata": {},
   "outputs": [
    {
     "data": {
      "text/html": [
       "<div>\n",
       "<style scoped>\n",
       "    .dataframe tbody tr th:only-of-type {\n",
       "        vertical-align: middle;\n",
       "    }\n",
       "\n",
       "    .dataframe tbody tr th {\n",
       "        vertical-align: top;\n",
       "    }\n",
       "\n",
       "    .dataframe thead th {\n",
       "        text-align: right;\n",
       "    }\n",
       "</style>\n",
       "<table border=\"1\" class=\"dataframe\">\n",
       "  <thead>\n",
       "    <tr style=\"text-align: right;\">\n",
       "      <th></th>\n",
       "      <th>State</th>\n",
       "      <th>W Snow Season</th>\n",
       "      <th>Sp Snow Season</th>\n",
       "      <th>Su Snow Season</th>\n",
       "      <th>F Snow Season</th>\n",
       "    </tr>\n",
       "  </thead>\n",
       "  <tbody>\n",
       "    <tr>\n",
       "      <th>0</th>\n",
       "      <td>CA</td>\n",
       "      <td>1.880</td>\n",
       "      <td>0.9400</td>\n",
       "      <td>0</td>\n",
       "      <td>0.9400</td>\n",
       "    </tr>\n",
       "    <tr>\n",
       "      <th>1</th>\n",
       "      <td>FL</td>\n",
       "      <td>0.005</td>\n",
       "      <td>0.0025</td>\n",
       "      <td>0</td>\n",
       "      <td>0.0025</td>\n",
       "    </tr>\n",
       "    <tr>\n",
       "      <th>2</th>\n",
       "      <td>TX</td>\n",
       "      <td>0.680</td>\n",
       "      <td>0.3400</td>\n",
       "      <td>0</td>\n",
       "      <td>0.3400</td>\n",
       "    </tr>\n",
       "    <tr>\n",
       "      <th>3</th>\n",
       "      <td>GA</td>\n",
       "      <td>0.380</td>\n",
       "      <td>0.1900</td>\n",
       "      <td>0</td>\n",
       "      <td>0.1900</td>\n",
       "    </tr>\n",
       "    <tr>\n",
       "      <th>4</th>\n",
       "      <td>OH</td>\n",
       "      <td>13.750</td>\n",
       "      <td>6.8750</td>\n",
       "      <td>0</td>\n",
       "      <td>6.8750</td>\n",
       "    </tr>\n",
       "    <tr>\n",
       "      <th>5</th>\n",
       "      <td>NH</td>\n",
       "      <td>35.720</td>\n",
       "      <td>17.8600</td>\n",
       "      <td>0</td>\n",
       "      <td>17.8600</td>\n",
       "    </tr>\n",
       "    <tr>\n",
       "      <th>6</th>\n",
       "      <td>ME</td>\n",
       "      <td>38.720</td>\n",
       "      <td>19.3600</td>\n",
       "      <td>0</td>\n",
       "      <td>19.3600</td>\n",
       "    </tr>\n",
       "    <tr>\n",
       "      <th>7</th>\n",
       "      <td>RI</td>\n",
       "      <td>19.425</td>\n",
       "      <td>9.7125</td>\n",
       "      <td>0</td>\n",
       "      <td>9.7125</td>\n",
       "    </tr>\n",
       "    <tr>\n",
       "      <th>8</th>\n",
       "      <td>AK</td>\n",
       "      <td>32.230</td>\n",
       "      <td>16.1150</td>\n",
       "      <td>0</td>\n",
       "      <td>16.1150</td>\n",
       "    </tr>\n",
       "    <tr>\n",
       "      <th>9</th>\n",
       "      <td>VT</td>\n",
       "      <td>44.625</td>\n",
       "      <td>22.3125</td>\n",
       "      <td>0</td>\n",
       "      <td>22.3125</td>\n",
       "    </tr>\n",
       "  </tbody>\n",
       "</table>\n",
       "</div>"
      ],
      "text/plain": [
       "  State  W Snow Season  Sp Snow Season  Su Snow Season  F Snow Season\n",
       "0    CA          1.880          0.9400               0         0.9400\n",
       "1    FL          0.005          0.0025               0         0.0025\n",
       "2    TX          0.680          0.3400               0         0.3400\n",
       "3    GA          0.380          0.1900               0         0.1900\n",
       "4    OH         13.750          6.8750               0         6.8750\n",
       "5    NH         35.720         17.8600               0        17.8600\n",
       "6    ME         38.720         19.3600               0        19.3600\n",
       "7    RI         19.425          9.7125               0         9.7125\n",
       "8    AK         32.230         16.1150               0        16.1150\n",
       "9    VT         44.625         22.3125               0        22.3125"
      ]
     },
     "execution_count": 41,
     "metadata": {},
     "output_type": "execute_result"
    }
   ],
   "source": [
    "snow_df = am_p1g5kin_df.filter(['State','W Snow Season','Sp Snow Season', 'Su Snow Season', 'F Snow Season'])\n",
    "snow_df"
   ]
  },
  {
   "cell_type": "code",
   "execution_count": 44,
   "metadata": {},
   "outputs": [
    {
     "data": {
      "image/png": "[encoded data removed]",
      "text/plain": [
       "<Figure size 432x288 with 1 Axes>"
      ]
     },
     "metadata": {
      "needs_background": "light"
     },
     "output_type": "display_data"
    }
   ],
   "source": [
    "ax = plt.gca()\n",
    "\n",
    "snow_df.plot(kind='bar',title='Snow Fall by Season', x='State',y='W Snow Season', color='red',width=0.4,align='edge', ax=ax)\n",
    "snow_df.plot(kind='bar',x='State',y='Sp Snow Season', color='g',width=0.40, align= 'edge',ax=ax)\n",
    "snow_df.plot(kind='bar',x='State',y='Su Snow Season', color='purple',width=0.20, align= 'edge',ax=ax)\n",
    "snow_df.plot(kind='bar',x='State',y='F Snow Season', color='orange',width=0.20, align= 'edge',ax=ax)\n",
    "\n",
    "plt.xlabel(\"State\")\n",
    "plt.ylabel(\"Snow in Inches\")\n",
    "\n",
    "\n",
    "plt.ylim(0,50)\n",
    "\n",
    "plt.savefig(\"seasonal_snow_bar.png\")\n",
    "plt.show()\n",
    "\n",
    "\n"
   ]
  },
  {
   "cell_type": "code",
   "execution_count": 43,
   "metadata": {},
   "outputs": [
    {
     "data": {
      "image/png": "[encoded data removed]",
      "text/plain": [
       "<Figure size 432x288 with 1 Axes>"
      ]
     },
     "metadata": {
      "needs_background": "light"
     },
     "output_type": "display_data"
    }
   ],
   "source": [
    "ax = plt.gca()\n",
    "\n",
    "snow_df.plot(kind='bar',title='Winter Snow Fall',x='State',y='W Snow Season', color='blue', ax=ax)\n",
    "plt.ylim(0,50)\n",
    "plt.xlabel(\"State\")\n",
    "plt.ylabel(\"Inches of Snow\")\n",
    "plt.gca().get_legend().remove()\n",
    "plt.savefig(\"Winter_snow.png\")\n",
    "plt.show()\n"
   ]
  },
  {
   "cell_type": "code",
   "execution_count": 44,
   "metadata": {},
   "outputs": [
    {
     "data": {
      "image/png": "[encoded data removed]",
      "text/plain": [
       "<Figure size 432x288 with 1 Axes>"
      ]
     },
     "metadata": {
      "needs_background": "light"
     },
     "output_type": "display_data"
    }
   ],
   "source": [
    "ax = plt.gca()\n",
    "\n",
    "snow_df.plot(kind='bar',title='Spring Snow Fall',x='State',y='Sp Snow Season', color='green', ax=ax)\n",
    "plt.ylim(0,50)\n",
    "plt.xlabel(\"State\")\n",
    "plt.ylabel(\"Inches of Snow\")\n",
    "plt.gca().get_legend().remove()\n",
    "plt.savefig(\"Spring_snow.png\")\n",
    "plt.show()\n"
   ]
  },
  {
   "cell_type": "code",
   "execution_count": 45,
   "metadata": {
    "scrolled": true
   },
   "outputs": [
    {
     "data": {
      "image/png": "[encoded data removed]",
      "text/plain": [
       "<Figure size 432x288 with 1 Axes>"
      ]
     },
     "metadata": {
      "needs_background": "light"
     },
     "output_type": "display_data"
    }
   ],
   "source": [
    "ax = plt.gca()\n",
    "\n",
    "snow_df.plot(kind='bar',title='Summer Snow Fall',x='State',y='Su Snow Season', color='y', ax=ax)\n",
    "plt.ylim(0,50)\n",
    "plt.xlabel(\"State\")\n",
    "plt.ylabel(\"Inches of Snow\")\n",
    "plt.gca().get_legend().remove()\n",
    "plt.savefig(\"Summer_snow.png\")\n",
    "plt.show()\n"
   ]
  },
  {
   "cell_type": "code",
   "execution_count": 46,
   "metadata": {},
   "outputs": [
    {
     "data": {
      "image/png": "[encoded data removed]",
      "text/plain": [
       "<Figure size 432x288 with 1 Axes>"
      ]
     },
     "metadata": {
      "needs_background": "light"
     },
     "output_type": "display_data"
    }
   ],
   "source": [
    "ax = plt.gca()\n",
    "\n",
    "snow_df.plot(kind='bar',title='Fall Snow Fall',x='State',y='F Snow Season', color='r', ax=ax)\n",
    "\n",
    "plt.ylim(0,50)\n",
    "plt.xlabel(\"State\")\n",
    "plt.ylabel(\"Inches of Snow\")\n",
    "plt.gca().get_legend().remove()\n",
    "plt.savefig(\"Fall_snow.png\")\n",
    "plt.show()\n"
   ]
  },
  {
   "cell_type": "code",
   "execution_count": 47,
   "metadata": {},
   "outputs": [
    {
     "data": {
      "text/html": [
       "<div>\n",
       "<style scoped>\n",
       "    .dataframe tbody tr th:only-of-type {\n",
       "        vertical-align: middle;\n",
       "    }\n",
       "\n",
       "    .dataframe tbody tr th {\n",
       "        vertical-align: top;\n",
       "    }\n",
       "\n",
       "    .dataframe thead th {\n",
       "        text-align: right;\n",
       "    }\n",
       "</style>\n",
       "<table border=\"1\" class=\"dataframe\">\n",
       "  <thead>\n",
       "    <tr style=\"text-align: right;\">\n",
       "      <th></th>\n",
       "      <th>State</th>\n",
       "      <th>Rank in Flatness</th>\n",
       "      <th>square miles</th>\n",
       "    </tr>\n",
       "  </thead>\n",
       "  <tbody>\n",
       "    <tr>\n",
       "      <th>0</th>\n",
       "      <td>CA</td>\n",
       "      <td>24</td>\n",
       "      <td>155973</td>\n",
       "    </tr>\n",
       "    <tr>\n",
       "      <th>1</th>\n",
       "      <td>FL</td>\n",
       "      <td>1</td>\n",
       "      <td>53997</td>\n",
       "    </tr>\n",
       "    <tr>\n",
       "      <th>2</th>\n",
       "      <td>TX</td>\n",
       "      <td>8</td>\n",
       "      <td>261914</td>\n",
       "    </tr>\n",
       "    <tr>\n",
       "      <th>3</th>\n",
       "      <td>GA</td>\n",
       "      <td>16</td>\n",
       "      <td>57919</td>\n",
       "    </tr>\n",
       "    <tr>\n",
       "      <th>4</th>\n",
       "      <td>OH</td>\n",
       "      <td>19</td>\n",
       "      <td>40953</td>\n",
       "    </tr>\n",
       "    <tr>\n",
       "      <th>5</th>\n",
       "      <td>NH</td>\n",
       "      <td>48</td>\n",
       "      <td>8969</td>\n",
       "    </tr>\n",
       "    <tr>\n",
       "      <th>6</th>\n",
       "      <td>ME</td>\n",
       "      <td>43</td>\n",
       "      <td>30865</td>\n",
       "    </tr>\n",
       "    <tr>\n",
       "      <th>7</th>\n",
       "      <td>RI</td>\n",
       "      <td>26</td>\n",
       "      <td>1034</td>\n",
       "    </tr>\n",
       "    <tr>\n",
       "      <th>8</th>\n",
       "      <td>AK</td>\n",
       "      <td>50</td>\n",
       "      <td>570670</td>\n",
       "    </tr>\n",
       "    <tr>\n",
       "      <th>9</th>\n",
       "      <td>VT</td>\n",
       "      <td>49</td>\n",
       "      <td>9249</td>\n",
       "    </tr>\n",
       "  </tbody>\n",
       "</table>\n",
       "</div>"
      ],
      "text/plain": [
       "  State  Rank in Flatness  square miles\n",
       "0    CA                24        155973\n",
       "1    FL                 1         53997\n",
       "2    TX                 8        261914\n",
       "3    GA                16         57919\n",
       "4    OH                19         40953\n",
       "5    NH                48          8969\n",
       "6    ME                43         30865\n",
       "7    RI                26          1034\n",
       "8    AK                50        570670\n",
       "9    VT                49          9249"
      ]
     },
     "execution_count": 47,
     "metadata": {},
     "output_type": "execute_result"
    }
   ],
   "source": [
    "flat_area_df = am_p1g5kin_df.filter(['State','Rank in Flatness', 'square miles'])\n",
    "flat_area_df\n"
   ]
  },
  {
   "cell_type": "code",
   "execution_count": 49,
   "metadata": {},
   "outputs": [
    {
     "data": {
      "image/png": "[encoded data removed]",
      "text/plain": [
       "<Figure size 432x288 with 1 Axes>"
      ]
     },
     "metadata": {
      "needs_background": "light"
     },
     "output_type": "display_data"
    }
   ],
   "source": [
    "ax = plt.gca()\n",
    "\n",
    "flat_area_df.plot(kind='bar',title='State Rank in Flatness',x='State',y='Rank in Flatness', color='brown', ax=ax)\n",
    "plt.ylim(0,50)\n",
    "plt.xlabel(\"States\")\n",
    "plt.ylabel(\"Most to Least Flat\")\n",
    "plt.gca().get_legend().remove()\n",
    "plt.savefig(\"Flatness.png\")\n",
    "plt.show()\n"
   ]
  },
  {
   "cell_type": "code",
   "execution_count": 81,
   "metadata": {},
   "outputs": [
    {
     "data": {
      "image/png": "[encoded data removed]",
      "text/plain": [
       "<Figure size 432x288 with 1 Axes>"
      ]
     },
     "metadata": {
      "needs_background": "light"
     },
     "output_type": "display_data"
    }
   ],
   "source": [
    "ax = plt.gca()\n",
    "\n",
    "flat_area_df.plot(kind='bar',title='Square Miles per State',x='State',y='square miles', color='red', ax=ax)\n",
    "plt.ylim(0,600000)\n",
    "plt.xlabel(\"State\")\n",
    "plt.ylabel(\"square miles\")\n",
    "plt.gca().get_legend().remove()\n",
    "plt.savefig(\"area.png\")\n",
    "plt.show()\n"
   ]
  },
  {
   "cell_type": "code",
   "execution_count": 47,
   "metadata": {},
   "outputs": [
    {
     "data": {
      "text/html": [
       "<div>\n",
       "<style scoped>\n",
       "    .dataframe tbody tr th:only-of-type {\n",
       "        vertical-align: middle;\n",
       "    }\n",
       "\n",
       "    .dataframe tbody tr th {\n",
       "        vertical-align: top;\n",
       "    }\n",
       "\n",
       "    .dataframe thead th {\n",
       "        text-align: right;\n",
       "    }\n",
       "</style>\n",
       "<table border=\"1\" class=\"dataframe\">\n",
       "  <thead>\n",
       "    <tr style=\"text-align: right;\">\n",
       "      <th></th>\n",
       "      <th>State</th>\n",
       "      <th>No of Pro Teams</th>\n",
       "      <th>First Pro Game</th>\n",
       "      <th>First College FB game</th>\n",
       "      <th>No of college programs</th>\n",
       "      <th>No of HS Programs</th>\n",
       "    </tr>\n",
       "  </thead>\n",
       "  <tbody>\n",
       "    <tr>\n",
       "      <th>0</th>\n",
       "      <td>CA</td>\n",
       "      <td>4</td>\n",
       "      <td>1946.0</td>\n",
       "      <td>1885</td>\n",
       "      <td>20</td>\n",
       "      <td>1017</td>\n",
       "    </tr>\n",
       "    <tr>\n",
       "      <th>1</th>\n",
       "      <td>FL</td>\n",
       "      <td>3</td>\n",
       "      <td>1926.0</td>\n",
       "      <td>1901</td>\n",
       "      <td>20</td>\n",
       "      <td>602</td>\n",
       "    </tr>\n",
       "    <tr>\n",
       "      <th>2</th>\n",
       "      <td>TX</td>\n",
       "      <td>2</td>\n",
       "      <td>1952.0</td>\n",
       "      <td>1894</td>\n",
       "      <td>41</td>\n",
       "      <td>1062</td>\n",
       "    </tr>\n",
       "    <tr>\n",
       "      <th>3</th>\n",
       "      <td>GA</td>\n",
       "      <td>1</td>\n",
       "      <td>1965.0</td>\n",
       "      <td>1892</td>\n",
       "      <td>18</td>\n",
       "      <td>432</td>\n",
       "    </tr>\n",
       "    <tr>\n",
       "      <th>4</th>\n",
       "      <td>OH</td>\n",
       "      <td>2</td>\n",
       "      <td>1920.0</td>\n",
       "      <td>1888</td>\n",
       "      <td>41</td>\n",
       "      <td>699</td>\n",
       "    </tr>\n",
       "    <tr>\n",
       "      <th>5</th>\n",
       "      <td>NH</td>\n",
       "      <td>0</td>\n",
       "      <td>NaN</td>\n",
       "      <td>1882</td>\n",
       "      <td>5</td>\n",
       "      <td>57</td>\n",
       "    </tr>\n",
       "    <tr>\n",
       "      <th>6</th>\n",
       "      <td>ME</td>\n",
       "      <td>0</td>\n",
       "      <td>NaN</td>\n",
       "      <td>1875</td>\n",
       "      <td>7</td>\n",
       "      <td>82</td>\n",
       "    </tr>\n",
       "    <tr>\n",
       "      <th>7</th>\n",
       "      <td>RI</td>\n",
       "      <td>0</td>\n",
       "      <td>NaN</td>\n",
       "      <td>1892</td>\n",
       "      <td>4</td>\n",
       "      <td>42</td>\n",
       "    </tr>\n",
       "    <tr>\n",
       "      <th>8</th>\n",
       "      <td>AK</td>\n",
       "      <td>0</td>\n",
       "      <td>NaN</td>\n",
       "      <td>1949</td>\n",
       "      <td>0</td>\n",
       "      <td>32</td>\n",
       "    </tr>\n",
       "    <tr>\n",
       "      <th>9</th>\n",
       "      <td>VT</td>\n",
       "      <td>0</td>\n",
       "      <td>NaN</td>\n",
       "      <td>1886</td>\n",
       "      <td>3</td>\n",
       "      <td>22</td>\n",
       "    </tr>\n",
       "  </tbody>\n",
       "</table>\n",
       "</div>"
      ],
      "text/plain": [
       "  State  No of Pro Teams  First Pro Game  First College FB game  \\\n",
       "0    CA                4          1946.0                   1885   \n",
       "1    FL                3          1926.0                   1901   \n",
       "2    TX                2          1952.0                   1894   \n",
       "3    GA                1          1965.0                   1892   \n",
       "4    OH                2          1920.0                   1888   \n",
       "5    NH                0             NaN                   1882   \n",
       "6    ME                0             NaN                   1875   \n",
       "7    RI                0             NaN                   1892   \n",
       "8    AK                0             NaN                   1949   \n",
       "9    VT                0             NaN                   1886   \n",
       "\n",
       "   No of college programs  No of HS Programs  \n",
       "0                      20               1017  \n",
       "1                      20                602  \n",
       "2                      41               1062  \n",
       "3                      18                432  \n",
       "4                      41                699  \n",
       "5                       5                 57  \n",
       "6                       7                 82  \n",
       "7                       4                 42  \n",
       "8                       0                 32  \n",
       "9                       3                 22  "
      ]
     },
     "execution_count": 47,
     "metadata": {},
     "output_type": "execute_result"
    }
   ],
   "source": [
    "# FB CULTURE/Tradtion\n",
    "fb_culture_df = am_p1g5kin_df.filter(['State','No of Pro Teams','First Pro Game','First College FB game','No of college programs','No of HS Programs'])\n",
    "fb_culture_df\n"
   ]
  },
  {
   "cell_type": "code",
   "execution_count": 50,
   "metadata": {},
   "outputs": [
    {
     "data": {
      "image/png": "[encoded data removed]",
      "text/plain": [
       "<Figure size 432x288 with 1 Axes>"
      ]
     },
     "metadata": {
      "needs_background": "light"
     },
     "output_type": "display_data"
    }
   ],
   "source": [
    "\n",
    "begin = np.array([1885,1901,1894,1892,1888,1882,1892,1949,1886])\n",
    "end =   np.array([2019])\n",
    "event = [\"College Football\".format(i) for i in range(len(begin))]\n",
    "\n",
    "plt.barh(range(len(begin)),  end-begin, left=begin)\n",
    "\n",
    "plt.yticks(range(len(begin)), event)\n",
    "plt.savefig(\"CB_hx.png\")\n",
    "plt.show()\n"
   ]
  },
  {
   "cell_type": "code",
   "execution_count": 49,
   "metadata": {
    "scrolled": true
   },
   "outputs": [
    {
     "data": {
      "image/png": "[encoded data removed]",
      "text/plain": [
       "<Figure size 432x288 with 1 Axes>"
      ]
     },
     "metadata": {
      "needs_background": "light"
     },
     "output_type": "display_data"
    }
   ],
   "source": [
    "begin = np.array([1946,1926,1952,1965,1920, 2019,2019,2019,2019,2019])\n",
    "end =   np.array([2019])\n",
    "event = [\"NFL Football\".format(i) for i in range(len(begin))]\n",
    "\n",
    "plt.barh(range(len(begin)),  end-begin, left=begin)\n",
    "\n",
    "plt.yticks(range(len(begin)), event)\n",
    "plt.savefig(\"NFL_hx.png\")\n",
    "plt.show()\n"
   ]
  },
  {
   "cell_type": "code",
   "execution_count": 54,
   "metadata": {},
   "outputs": [
    {
     "data": {
      "image/png": "[encoded data removed]",
      "text/plain": [
       "<Figure size 432x288 with 1 Axes>"
      ]
     },
     "metadata": {
      "needs_background": "light"
     },
     "output_type": "display_data"
    }
   ],
   "source": [
    "#number of programs\n",
    "ax = plt.gca()\n",
    "\n",
    "fb_culture_df.plot(kind='bar',title='College Football Programs by State',x='State',y='No of college programs', color='brown', ax=ax)\n",
    "plt.ylim(0,50)\n",
    "plt.xlabel(\"State\")\n",
    "plt.ylabel(\"college programs\")\n",
    "plt.gca().get_legend().remove()\n",
    "plt.savefig(\"CF_programs.png\")\n",
    "plt.show()\n"
   ]
  },
  {
   "cell_type": "code",
   "execution_count": 53,
   "metadata": {},
   "outputs": [
    {
     "data": {
      "image/png": "[encoded data removed]",
      "text/plain": [
       "<Figure size 432x288 with 1 Axes>"
      ]
     },
     "metadata": {
      "needs_background": "light"
     },
     "output_type": "display_data"
    }
   ],
   "source": [
    "ax = plt.gca()\n",
    "\n",
    "fb_culture_df.plot(kind='bar',title='High School Football Programs by State',x='State',y='No of HS Programs', color='brown', ax=ax)\n",
    "plt.ylim(0,2000)\n",
    "plt.xlabel(\"State\")\n",
    "plt.ylabel(\"High School Programs\")\n",
    "plt.gca().get_legend().remove()\n",
    "plt.savefig(\"HS_programs.png\")\n",
    "plt.show()\n"
   ]
  },
  {
   "cell_type": "code",
   "execution_count": 56,
   "metadata": {},
   "outputs": [
    {
     "data": {
      "image/png": "[encoded data removed]",
      "text/plain": [
       "<Figure size 432x288 with 1 Axes>"
      ]
     },
     "metadata": {
      "needs_background": "light"
     },
     "output_type": "display_data"
    }
   ],
   "source": [
    "ax = plt.gca()\n",
    "\n",
    "fb_culture_df.plot(kind='bar',title='NFL Teams by State',x='State',y='No of Pro Teams', color='brown', ax=ax)\n",
    "plt.ylim(0,5)\n",
    "plt.xlabel(\"State\")\n",
    "plt.ylabel(\"Number of NFL Teams\")\n",
    "plt.gca().get_legend().remove()\n",
    "plt.savefig(\"NFL_teams.png\")\n",
    "plt.show()\n"
   ]
  },
  {
   "cell_type": "code",
   "execution_count": null,
   "metadata": {},
   "outputs": [],
   "source": []
  },
  {
   "cell_type": "code",
   "execution_count": null,
   "metadata": {},
   "outputs": [],
   "source": []
  }
 ],
 "metadata": {
  "kernelspec": {
   "display_name": "Python [conda env:pandas] *",
   "language": "python",
   "name": "conda-env-pandas-py"
  },
  "language_info": {
   "codemirror_mode": {
    "name": "ipython",
    "version": 3
   },
   "file_extension": ".py",
   "mimetype": "text/x-python",
   "name": "python",
   "nbconvert_exporter": "python",
   "pygments_lexer": "ipython3",
   "version": "3.6.8"
  }
 },
 "nbformat": 4,
 "nbformat_minor": 2
}
