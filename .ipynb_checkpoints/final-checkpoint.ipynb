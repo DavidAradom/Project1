{
 "cells": [
  {
   "cell_type": "code",
   "execution_count": null,
   "metadata": {},
   "outputs": [],
   "source": [
    "#Justus starts here\n",
    "#dependencies\n",
    "import pandas as pd\n",
    "\n"
   ]
  },
  {
   "cell_type": "code",
   "execution_count": null,
   "metadata": {},
   "outputs": [],
   "source": [
    "States = [\"California\",\n",
    "          \"Florida\",\n",
    "          \"Texas\",\n",
    "          \"Georgia\",\n",
    "          \"Ohio\",\n",
    "          \"New Hampshire\",\n",
    "          \"Maine\",\n",
    "          \"Rhode Island\",\n",
    "          \"Alaska\",\n",
    "          \"Vermont\"]"
   ]
  },
  {
   "cell_type": "code",
   "execution_count": null,
   "metadata": {},
   "outputs": [],
   "source": [
    "Active_Players = [\"232\",\n",
    "                  \"225\",\n",
    "                  \"192\",\n",
    "                  \"130\",\n",
    "                  \"105\",\n",
    "                  \"2\",\n",
    "                  \"1\",\n",
    "                  \"0\",\n",
    "                  \"0\",\n",
    "                  \"0\"]"
   ]
  },
  {
   "cell_type": "code",
   "execution_count": null,
   "metadata": {},
   "outputs": [],
   "source": [
    "pd.DataFrame({\"States\": States, \"Active Players\": Active_Players})\n"
   ]
  },
  {
   "cell_type": "code",
   "execution_count": null,
   "metadata": {},
   "outputs": [],
   "source": [
    "league_demo = \"NFL_demo.csv\"\n"
   ]
  },
  {
   "cell_type": "code",
   "execution_count": null,
   "metadata": {},
   "outputs": [],
   "source": [
    "league_demo_df = pd.read_csv(league_demo, encoding=\"UTF-8\")\n"
   ]
  },
  {
   "cell_type": "code",
   "execution_count": null,
   "metadata": {},
   "outputs": [],
   "source": [
    "league_demo_df\n"
   ]
  },
  {
   "cell_type": "code",
   "execution_count": null,
   "metadata": {},
   "outputs": [],
   "source": [
    "print(league_demo_df.loc[[0]])\n"
   ]
  },
  {
   "cell_type": "code",
   "execution_count": null,
   "metadata": {},
   "outputs": [],
   "source": [
    "%matplotlib notebook\n"
   ]
  },
  {
   "cell_type": "code",
   "execution_count": null,
   "metadata": {},
   "outputs": [],
   "source": [
    "import matplotlib.pyplot as plt\n",
    "import numpy as np\n"
   ]
  },
  {
   "cell_type": "code",
   "execution_count": null,
   "metadata": {},
   "outputs": [],
   "source": [
    "x = np.char.array(['White','African-American','Latino','Asian','Other'])\n",
    "y = np.array([27.4, 69.7, 0.8, 1.9, 0.2])\n",
    "colors = [\"red\", \"orange\", \"lightcoral\", \"lightskyblue\", \"green\"]\n",
    "\n",
    "porcent = 100.*y/y.sum()\n",
    "\n",
    "patches, texts = plt.pie(y, colors=colors, startangle=90, radius=1.2)\n",
    "labels = ['{0} - {1:1.2f} %'.format(i,j) for i,j in zip(x, porcent)]\n",
    "\n",
    "sort_legend = False\n",
    "if sort_legend:\n",
    "    patches, labels, dummy =  zip(*sorted(zip(patches, labels, y),\n",
    "                                          key=lambda x: x[2],\n",
    "                                          reverse=True))\n",
    "\n",
    "plt.legend(patches, labels, loc='left',\n",
    "           fontsize=8)\n",
    "\n",
    "plt.legend(labels,loc=5)\n"
   ]
  },
  {
   "cell_type": "code",
   "execution_count": null,
   "metadata": {},
   "outputs": [],
   "source": [
    "plt.savefig(\"Visuals/NFLDemographics.png\")\n",
    "plt.show()\n"
   ]
  },
  {
   "cell_type": "code",
   "execution_count": null,
   "metadata": {},
   "outputs": [],
   "source": [
    "# Dependencies\n",
    "import numpy as np\n",
    "import pandas as pd\n",
    "import matplotlib.pyplot as plt\n",
    "import requests\n",
    "from census import Census\n",
    "\n",
    "# Census API Key\n",
    "from config import api_key\n",
    "c = Census(api_key, year=2013)\n"
   ]
  },
  {
   "cell_type": "code",
   "execution_count": null,
   "metadata": {},
   "outputs": [],
   "source": [
    "census_demo = \"raw_data.csv\"\n"
   ]
  },
  {
   "cell_type": "code",
   "execution_count": null,
   "metadata": {},
   "outputs": [],
   "source": [
    "census_demo_df = pd.read_csv(census_demo, encoding=\"UTF-8\")\n"
   ]
  },
  {
   "cell_type": "code",
   "execution_count": null,
   "metadata": {},
   "outputs": [],
   "source": [
    "census_demo_df\n"
   ]
  },
  {
   "cell_type": "code",
   "execution_count": null,
   "metadata": {},
   "outputs": [],
   "source": [
    "census_demo_df.columns\n",
    "census_demo_df.dtypes\n"
   ]
  },
  {
   "cell_type": "code",
   "execution_count": null,
   "metadata": {},
   "outputs": [],
   "source": [
    "census_demo_df = census_demo_df.fillna(0)\n",
    "census_demo_df\n"
   ]
  },
  {
   "cell_type": "code",
   "execution_count": null,
   "metadata": {},
   "outputs": [],
   "source": [
    "census_demo_df = census_demo_df[[\"Location\",\"White\",\"Black\",\"Hispanic\", \"Asian\", \"American Indian/Alaska Native\",\n",
    "       \"Native Hawaiian/Other Pacific Islander\", \"Two Or More Races\", \"Total\"]]\n",
    "census_demo_df.head()\n"
   ]
  },
  {
   "cell_type": "code",
   "execution_count": null,
   "metadata": {},
   "outputs": [],
   "source": [
    "census_demo_df[\"Other\"] = census_demo_df[\"American Indian/Alaska Native\"] + census_demo_df[\"Native Hawaiian/Other Pacific Islander\"] + census_demo_df[\"Two Or More Races\"]\n",
    "census_demo_df\n"
   ]
  },
  {
   "cell_type": "code",
   "execution_count": null,
   "metadata": {},
   "outputs": [],
   "source": [
    "census_demo_df = census_demo_df[[\"Location\",\"White\",\"Black\",\"Hispanic\", \"Asian\", \"Other\", \"Total\"]]\n",
    "census_demo_df[\"White %\"] = (census_demo_df[\"White\"] / census_demo_df[\"Total\"]) * 100\n",
    "census_demo_df[\"Black %\"] = (census_demo_df[\"Black\"] / census_demo_df[\"Total\"]) * 100\n",
    "census_demo_df[\"Hispanic %\"] = (census_demo_df[\"Hispanic\"] / census_demo_df[\"Total\"]) * 100\n",
    "census_demo_df[\"Asian %\"] = (census_demo_df[\"Asian\"] / census_demo_df[\"Total\"]) * 100\n",
    "census_demo_df[\"Other %\"] = (census_demo_df[\"Other\"] / census_demo_df[\"Total\"]) * 100\n",
    "census_demo_df.head()\n"
   ]
  },
  {
   "cell_type": "code",
   "execution_count": null,
   "metadata": {},
   "outputs": [],
   "source": [
    "census_demo_df2 = census_demo_df.loc[[5, 10, 44, 11, 36, 30, 20, 40, 2, 46]]\n",
    "census_demo_df2\n"
   ]
  },
  {
   "cell_type": "code",
   "execution_count": null,
   "metadata": {},
   "outputs": [],
   "source": [
    "census_demo_df2 = census_demo_df2.set_index(\"Location\")\n"
   ]
  },
  {
   "cell_type": "code",
   "execution_count": null,
   "metadata": {},
   "outputs": [],
   "source": [
    "census_demo_df2[['White %','Black %', 'Hispanic %', 'Asian %', 'Other %']].plot(kind='bar', stacked=True)\n",
    "plt.legend(loc='upper right', bbox_to_anchor=(1.0, 0.5))\n",
    "\n",
    "plt.show()\n"
   ]
  },
  {
   "cell_type": "code",
   "execution_count": null,
   "metadata": {},
   "outputs": [],
   "source": [
    "plt.title(\"Ethnic Demoghraphics by State\")\n",
    "plt.xlabel(\"States\")\n",
    "plt.ylabel(\"% of Total Population\")\n"
   ]
  },
  {
   "cell_type": "code",
   "execution_count": null,
   "metadata": {},
   "outputs": [],
   "source": [
    "plt.savefig(\"Visuals/StateDemographics.png\")\n",
    "plt.show()\n"
   ]
  },
  {
   "cell_type": "code",
   "execution_count": null,
   "metadata": {},
   "outputs": [],
   "source": [
    "#Alex starts here\n",
    "#Imports\n",
    "import matplotlib.pyplot as plt\n",
    "import pandas as pd\n",
    "import numpy as np\n",
    "import csv\n"
   ]
  },
  {
   "cell_type": "code",
   "execution_count": null,
   "metadata": {},
   "outputs": [],
   "source": [
    "#read csv\n",
    "am_p1g5kin = pd.read_csv(\"am_p1g5kin_data.csv\")\n"
   ]
  },
  {
   "cell_type": "code",
   "execution_count": null,
   "metadata": {},
   "outputs": [],
   "source": [
    "#create data frame\n",
    "am_p1g5kin_df =pd.DataFrame(am_p1g5kin)\n",
    "am_p1g5kin_df\n"
   ]
  },
  {
   "cell_type": "code",
   "execution_count": null,
   "metadata": {},
   "outputs": [],
   "source": [
    "#Create new DataFrams from main DF new = old.filter(['A','B','C','D'])\n",
    "temp_df = am_p1g5kin_df.filter(['State','W Avg Temp','Sp Avg Temp', 'Su Avg Temp', 'F Avg Temp'])\n",
    "temp_df\n"
   ]
  },
  {
   "cell_type": "code",
   "execution_count": null,
   "metadata": {},
   "outputs": [],
   "source": [
    "#AVG TEMPS"
   ]
  },
  {
   "cell_type": "code",
   "execution_count": null,
   "metadata": {},
   "outputs": [],
   "source": [
    "# Generate the Plot x axis are seasons y axis are temperatures\n",
    "ax = plt.gca()\n",
    "\n",
    "temp_df.plot(kind='line',x='State',y='W Avg Temp', color='b', ax=ax)\n",
    "temp_df.plot(kind='line',x='State',y='Sp Avg Temp', color='g', ax=ax)\n",
    "temp_df.plot(kind='line',x='State',y='Su Avg Temp', color='y', ax=ax)\n",
    "temp_df.plot(kind='line',x='State',y='F Avg Temp', color='r', ax=ax)\n",
    "\n",
    "plt.xlabel(\"State\")\n",
    "plt.ylabel(\"Degrees Fahrenheit\")\n",
    "\n",
    "\n",
    "plt.ylim(0,100)\n",
    "plt.grid()\n",
    "plt.savefig(\"seasonal_temp_line.png\")\n",
    "plt.show()\n"
   ]
  },
  {
   "cell_type": "code",
   "execution_count": null,
   "metadata": {},
   "outputs": [],
   "source": [
    "ax = plt.gca()\n",
    "\n",
    "temp_df.plot(kind='bar',x='State',y='W Avg Temp', color='blue', ax=ax)\n",
    "plt.ylim(0,100)\n",
    "plt.xlabel(\"State\")\n",
    "plt.ylabel(\"Degrees Fahrenheit\")\n",
    "ax.axhline(32, ls='--', color='black')\n",
    "plt.legend()\n",
    "plt.savefig(\"Winter_temp.png\")\n",
    "plt.show()\n"
   ]
  },
  {
   "cell_type": "code",
   "execution_count": null,
   "metadata": {},
   "outputs": [],
   "source": [
    "ax = plt.gca()\n",
    "\n",
    "temp_df.plot(kind='bar',x='State',y='Sp Avg Temp', color='green', ax=ax)\n",
    "plt.ylim(0,100)\n",
    "plt.xlabel(\"State\")\n",
    "plt.ylabel(\"Degrees Fahrenheit\")\n",
    "ax.axhline(32, ls='--', color='black')\n",
    "plt.legend()\n",
    "plt.savefig(\"Spring_temp.png\")\n",
    "plt.show()\n"
   ]
  },
  {
   "cell_type": "code",
   "execution_count": null,
   "metadata": {},
   "outputs": [],
   "source": [
    "ax = plt.gca()\n",
    "\n",
    "temp_df.plot(kind='bar',x='State',y='Su Avg Temp', color='y', ax=ax)\n",
    "plt.ylim(0,100)\n",
    "plt.xlabel(\"State\")\n",
    "plt.ylabel(\"Degrees Fahrenheit\")\n",
    "ax.axhline(32, ls='--', color='black')\n",
    "plt.savefig(\"Summer_temp.png\")\n",
    "plt.show()\n"
   ]
  },
  {
   "cell_type": "code",
   "execution_count": null,
   "metadata": {},
   "outputs": [],
   "source": [
    "ax = plt.gca()\n",
    "\n",
    "temp_df.plot(kind='bar',x='State',y='F Avg Temp', color='red', ax=ax)\n",
    "plt.ylim(0,100)\n",
    "plt.xlabel(\"State\")\n",
    "plt.ylabel(\"Degrees Fahrenheit\")\n",
    "ax.axhline(32, ls='--', color='black')\n",
    "plt.savefig(\"Fall_temp.png\")\n",
    "plt.show()\n"
   ]
  },
  {
   "cell_type": "code",
   "execution_count": null,
   "metadata": {},
   "outputs": [],
   "source": [
    "# SUN HOURS"
   ]
  },
  {
   "cell_type": "code",
   "execution_count": null,
   "metadata": {},
   "outputs": [],
   "source": [
    "sun_df = am_p1g5kin_df.filter(['State','W Sun Hours','Sp Sun Hours', 'Su Sun Hours', 'F Sun Hours'])\n",
    "sun_df"
   ]
  },
  {
   "cell_type": "code",
   "execution_count": null,
   "metadata": {},
   "outputs": [],
   "source": [
    "# Generate the Plot x axis are seasons y axis are hours\n",
    "ax = plt.gca()\n",
    "\n",
    "sun_df.plot(kind='line',x='State',y='W Sun Hours', color='blue', ax=ax)\n",
    "sun_df.plot(kind='line',x='State',y='Sp Sun Hours', color='green', ax=ax)\n",
    "sun_df.plot(kind='line',x='State',y='Su Sun Hours', color='y', ax=ax)\n",
    "sun_df.plot(kind='line',x='State',y='F Sun Hours', color='r', ax=ax)\n",
    "\n",
    "plt.xlabel(\"State\")\n",
    "plt.ylabel(\"Avg Hours of Sun\")\n",
    "\n",
    "\n",
    "plt.ylim(0,1000)\n",
    "plt.grid()\n",
    "plt.savefig(\"Sun_Hours_line.png\")\n",
    "plt.show()"
   ]
  },
  {
   "cell_type": "code",
   "execution_count": null,
   "metadata": {},
   "outputs": [],
   "source": [
    "ax = plt.gca()\n",
    "\n",
    "sun_df.plot(kind='bar',x='State',y='W Sun Hours', color='blue', ax=ax)\n",
    "plt.ylim(0,1000)\n",
    "plt.xlabel(\"State\")\n",
    "plt.ylabel(\"Avg Hours of Sun\")\n",
    "plt.legend()\n",
    "plt.savefig(\"Winter_sun.png\")\n",
    "plt.show()"
   ]
  },
  {
   "cell_type": "code",
   "execution_count": null,
   "metadata": {},
   "outputs": [],
   "source": [
    "ax = plt.gca()\n",
    "\n",
    "sun_df.plot(kind='bar',x='State',y='Sp Sun Hours', color='green', ax=ax)\n",
    "plt.ylim(0,1000)\n",
    "plt.xlabel(\"State\")\n",
    "plt.ylabel(\"Avg Hours of Sun\")\n",
    "plt.legend()\n",
    "plt.savefig(\"Spring_sun.png\")\n",
    "plt.show()"
   ]
  },
  {
   "cell_type": "code",
   "execution_count": null,
   "metadata": {},
   "outputs": [],
   "source": [
    "ax = plt.gca()\n",
    "\n",
    "sun_df.plot(kind='bar',x='State',y='Su Sun Hours', color='y', ax=ax)\n",
    "plt.ylim(0,1000)\n",
    "plt.xlabel(\"State\")\n",
    "plt.ylabel(\"Avg Hours of Sun\")\n",
    "plt.legend()\n",
    "plt.savefig(\"Summer_sun.png\")\n",
    "plt.show()"
   ]
  },
  {
   "cell_type": "code",
   "execution_count": null,
   "metadata": {},
   "outputs": [],
   "source": [
    "ax = plt.gca()\n",
    "\n",
    "sun_df.plot(kind='bar',x='State',y='F Sun Hours', color='r', ax=ax)\n",
    "plt.ylim(0,1000)\n",
    "plt.xlabel(\"State\")\n",
    "plt.ylabel(\"Avg Hours of Sun\")\n",
    "plt.legend()\n",
    "plt.savefig(\"Fall_sun.png\")\n",
    "plt.show()"
   ]
  },
  {
   "cell_type": "code",
   "execution_count": null,
   "metadata": {},
   "outputs": [],
   "source": [
    "# AVG PRECIPITATION"
   ]
  },
  {
   "cell_type": "code",
   "execution_count": null,
   "metadata": {},
   "outputs": [],
   "source": [
    "precip_df = am_p1g5kin_df.filter(['State','W Season Avg','Sp Season Avg', 'Su Season Avg', 'F Season Avg'])\n",
    "precip_df\n"
   ]
  },
  {
   "cell_type": "code",
   "execution_count": null,
   "metadata": {},
   "outputs": [],
   "source": [
    "# Generate the Plot x axis are seasons y axis are inches\n",
    "ax = plt.gca()\n",
    "\n",
    "precip_df.plot(kind='line',x='State',y='W Season Avg', color='blue',ax=ax)\n",
    "precip_df.plot(kind='line',x='State',y='Sp Season Avg', color='green', ax=ax)\n",
    "precip_df.plot(kind='line',x='State',y='Su Season Avg', color='y', ax=ax)\n",
    "precip_df.plot(kind='line',x='State',y='F Season Avg', color='r', ax=ax)\n",
    "\n",
    "plt.xlabel(\"State\")\n",
    "plt.ylabel(\"Inches of Precipitation\")\n",
    "\n",
    "\n",
    "plt.ylim(0,50)\n",
    "plt.grid()\n",
    "plt.savefig(\"Precip_Line.png\")\n",
    "plt.show()\n"
   ]
  },
  {
   "cell_type": "code",
   "execution_count": null,
   "metadata": {},
   "outputs": [],
   "source": [
    "ax = plt.gca()\n",
    "\n",
    "precip_df.plot(kind='bar',x='State',y='W Season Avg', color='blue', ax=ax)\n",
    "plt.ylim(0,25)\n",
    "plt.xlabel(\"State\")\n",
    "plt.ylabel(\"Inches of Precipitaion\")\n",
    "plt.legend()\n",
    "plt.savefig(\"Winter_precip.png\")\n",
    "plt.show()\n"
   ]
  },
  {
   "cell_type": "code",
   "execution_count": null,
   "metadata": {},
   "outputs": [],
   "source": [
    "ax = plt.gca()\n",
    "\n",
    "precip_df.plot(kind='bar',x='State',y='Sp Season Avg', color='green', ax=ax)\n",
    "plt.ylim(0,25)\n",
    "plt.xlabel(\"State\")\n",
    "plt.ylabel(\"Inches of Precipitaion\")\n",
    "plt.legend()\n",
    "plt.savefig(\"Spring_precip.png\")\n",
    "plt.show()\n"
   ]
  },
  {
   "cell_type": "code",
   "execution_count": null,
   "metadata": {},
   "outputs": [],
   "source": [
    "ax = plt.gca()\n",
    "\n",
    "precip_df.plot(kind='bar',x='State',y='Su Season Avg', color='y', ax=ax)\n",
    "plt.ylim(0,25)\n",
    "plt.xlabel(\"State\")\n",
    "plt.ylabel(\"Inches of Precipitaion\")\n",
    "plt.legend()\n",
    "plt.savefig(\"Summer_precip.png\")\n",
    "plt.show()\n"
   ]
  },
  {
   "cell_type": "code",
   "execution_count": null,
   "metadata": {},
   "outputs": [],
   "source": [
    "ax = plt.gca()\n",
    "\n",
    "precip_df.plot(kind='bar',x='State',y='F Season Avg', color='r', ax=ax)\n",
    "plt.ylim(0,25)\n",
    "plt.xlabel(\"State\")\n",
    "plt.ylabel(\"Inches of Precipitaion\")\n",
    "plt.legend()\n",
    "plt.savefig(\"Fall_precip.png\")\n",
    "plt.show()\n"
   ]
  },
  {
   "cell_type": "code",
   "execution_count": null,
   "metadata": {},
   "outputs": [],
   "source": [
    "# Avg Snow Fall"
   ]
  },
  {
   "cell_type": "code",
   "execution_count": null,
   "metadata": {},
   "outputs": [],
   "source": [
    "snow_df = am_p1g5kin_df.filter(['State','W Snow Season','Sp Snow Season', 'Su Snow Season', 'F Snow Season'])\n",
    "snow_df\n"
   ]
  },
  {
   "cell_type": "code",
   "execution_count": null,
   "metadata": {},
   "outputs": [],
   "source": [
    "ax = plt.gca()\n",
    "\n",
    "snow_df.plot(kind='line',x='State',y='W Snow Season', color='blue',ax=ax)\n",
    "snow_df.plot(kind='line',x='State',y='Sp Snow Season', color='green', ax=ax)\n",
    "snow_df.plot(kind='line',x='State',y='Su Snow Season', color='y', ax=ax)\n",
    "snow_df.plot(kind='line',x='State',y='F Snow Season', color='r', ax=ax)\n",
    "\n",
    "plt.xlabel(\"State\")\n",
    "plt.ylabel(\"Inches of Snow\")\n",
    "\n",
    "\n",
    "plt.ylim(0,60)\n",
    "plt.grid()\n",
    "plt.savefig(\"Snow_season_line.png\")\n",
    "plt.show()\n"
   ]
  },
  {
   "cell_type": "code",
   "execution_count": null,
   "metadata": {},
   "outputs": [],
   "source": [
    "ax = plt.gca()\n",
    "\n",
    "snow_df.plot(kind='bar',x='State',y='W Snow Season', color='blue', ax=ax)\n",
    "plt.ylim(0,50)\n",
    "plt.xlabel(\"State\")\n",
    "plt.ylabel(\"Inches of Snow\")\n",
    "plt.legend()\n",
    "plt.savefig(\"Winter_snow.png\")\n",
    "plt.show()\n"
   ]
  },
  {
   "cell_type": "code",
   "execution_count": null,
   "metadata": {},
   "outputs": [],
   "source": [
    "ax = plt.gca()\n",
    "\n",
    "snow_df.plot(kind='bar',x='State',y='Sp Snow Season', color='green', ax=ax)\n",
    "plt.ylim(0,50)\n",
    "plt.xlabel(\"State\")\n",
    "plt.ylabel(\"Inches of Snow\")\n",
    "plt.legend()\n",
    "plt.savefig(\"Spring_snow.png\")\n",
    "plt.show()\n"
   ]
  },
  {
   "cell_type": "code",
   "execution_count": null,
   "metadata": {},
   "outputs": [],
   "source": [
    "ax = plt.gca()\n",
    "\n",
    "snow_df.plot(kind='bar',x='State',y='Su Snow Season', color='y', ax=ax)\n",
    "plt.ylim(0,50)\n",
    "plt.xlabel(\"State\")\n",
    "plt.ylabel(\"Inches of Snow\")\n",
    "plt.legend()\n",
    "plt.savefig(\"Summer_snow.png\")\n",
    "plt.show()\n"
   ]
  },
  {
   "cell_type": "code",
   "execution_count": null,
   "metadata": {},
   "outputs": [],
   "source": [
    "ax = plt.gca()\n",
    "\n",
    "snow_df.plot(kind='bar',x='State',y='F Snow Season', color='r', ax=ax)\n",
    "\n",
    "plt.ylim(0,50)\n",
    "plt.xlabel(\"State\")\n",
    "plt.ylabel(\"Inches of Snow\")\n",
    "plt.legend()\n",
    "plt.savefig(\"Fall_snow.png\")\n",
    "plt.show()\n"
   ]
  },
  {
   "cell_type": "code",
   "execution_count": null,
   "metadata": {},
   "outputs": [],
   "source": [
    "flat_area_df = am_p1g5kin_df.filter(['State','Rank in Flatness', 'square miles'])\n",
    "flat_area_df"
   ]
  },
  {
   "cell_type": "code",
   "execution_count": null,
   "metadata": {},
   "outputs": [],
   "source": [
    "ax = plt.gca()\n",
    "\n",
    "flat_area_df.plot(kind='bar',x='State',y='Rank in Flatness', color='brown', ax=ax)\n",
    "plt.ylim(0,50)\n",
    "plt.xlabel(\"State\")\n",
    "plt.ylabel(\"Most to Least Flat\")\n",
    "plt.legend()\n",
    "plt.savefig(\"Flatness.png\")\n",
    "plt.show()\n"
   ]
  },
  {
   "cell_type": "code",
   "execution_count": null,
   "metadata": {},
   "outputs": [],
   "source": [
    "ax = plt.gca()\n",
    "\n",
    "flat_area_df.plot(kind='bar',x='State',y='square miles', color='red', ax=ax)\n",
    "plt.ylim(0,600000)\n",
    "plt.xlabel(\"State\")\n",
    "plt.ylabel(\"square miles\")\n",
    "plt.legend()\n",
    "plt.savefig(\"area.png\")\n",
    "plt.show()\n"
   ]
  },
  {
   "cell_type": "code",
   "execution_count": null,
   "metadata": {},
   "outputs": [],
   "source": [
    "# FB CULTURE/Tradtion\n",
    "fb_culture_df = am_p1g5kin_df.filter(['State','No of Pro Teams','First Pro Game','First College FB game','No of college programs','No of HS Programs'])\n",
    "fb_culture_df\n"
   ]
  },
  {
   "cell_type": "code",
   "execution_count": null,
   "metadata": {},
   "outputs": [],
   "source": [
    "begin = np.array([1885,1901,1894,1892,1888,1882,1875,1892,1949,1886])\n",
    "end =   np.array([2019])\n",
    "event = [\"College Football\".format(i) for i in range(len(begin))]\n",
    "\n",
    "plt.barh(range(len(begin)),  end-begin, left=begin)\n",
    "\n",
    "plt.yticks(range(len(begin)), event)\n",
    "plt.savefig(\"CB_hx.png\")\n",
    "plt.show()\n"
   ]
  },
  {
   "cell_type": "code",
   "execution_count": null,
   "metadata": {},
   "outputs": [],
   "source": [
    "begin = np.array([1946,1926,1952,1965,1920, 2019,2019,2019,2019,2019])\n",
    "end =   np.array([2019])\n",
    "event = [\"NFL Football\".format(i) for i in range(len(begin))]\n",
    "\n",
    "plt.barh(range(len(begin)),  end-begin, left=begin)\n",
    "\n",
    "plt.yticks(range(len(begin)), event)\n",
    "plt.savefig(\"NFL_hx.png\")\n",
    "plt.show()\n"
   ]
  },
  {
   "cell_type": "code",
   "execution_count": null,
   "metadata": {},
   "outputs": [],
   "source": [
    "#number of programs\n",
    "ax = plt.gca()\n",
    "\n",
    "fb_culture_df.plot(kind='bar',x='State',y='No of college programs', color='brown', ax=ax)\n",
    "plt.ylim(0,50)\n",
    "plt.xlabel(\"State\")\n",
    "plt.ylabel(\"college programs\")\n",
    "plt.legend()\n",
    "plt.savefig(\"CF_programs.png\")\n",
    "plt.show()\n"
   ]
  },
  {
   "cell_type": "code",
   "execution_count": null,
   "metadata": {},
   "outputs": [],
   "source": [
    "ax = plt.gca()\n",
    "\n",
    "fb_culture_df.plot(kind='bar',x='State',y='No of HS Programs', color='brown', ax=ax)\n",
    "plt.ylim(0,2000)\n",
    "plt.xlabel(\"State\")\n",
    "plt.ylabel(\"High School Programs\")\n",
    "plt.legend()\n",
    "plt.savefig(\"HS_programs.png\")\n",
    "plt.show()\n"
   ]
  },
  {
   "cell_type": "code",
   "execution_count": null,
   "metadata": {},
   "outputs": [],
   "source": [
    "ax = plt.gca()\n",
    "\n",
    "fb_culture_df.plot(kind='bar',x='State',y='No of Pro Teams', color='brown', ax=ax)\n",
    "plt.ylim(0,5)\n",
    "plt.xlabel(\"State\")\n",
    "plt.ylabel(\"Number of NFL Teams\")\n",
    "plt.legend()\n",
    "plt.savefig(\"NFL_teams.png\")\n",
    "plt.show()\n"
   ]
  },
  {
   "cell_type": "code",
   "execution_count": null,
   "metadata": {},
   "outputs": [],
   "source": [
    "#David's part\n",
    "%matplotlib inline\n",
    "\n",
    "# Dependencies and Setup\n",
    "import matplotlib.pyplot as plt\n",
    "import pandas as pd\n",
    "import numpy as np\n",
    "import matplotlib\n",
    "\n",
    "pd.options.display.float_format = '{:.0f}'.format\n",
    "\n",
    "# File to Load and read as csv\n",
    "crime_df = pd.read_csv(\"Crime_Trends.csv\")\n",
    "education_df = pd.read_csv(\"Education.csv\")\n",
    "income_df = pd.read_csv(\"income_per_capita.csv\")\n",
    "unemployment_df = pd.read_csv(\"Unemployment.csv\")\n",
    "crime_df.head()\n"
   ]
  },
  {
   "cell_type": "code",
   "execution_count": null,
   "metadata": {},
   "outputs": [],
   "source": [
    "# filtered to 10 states: top 5 states (CA, FL, TX, GA, OH) and bottom states (NH, ME, RI, AK, VT)\n",
    "ten_state_crime = crime_df[[\"California\", \"Florida\", \"Texas\", \"Georgia\", \"Ohio\", \"New Hampshire\", \"Maine\", \"Rhode Island\", \"Arkansas\", \"Vermont\"]]\n",
    "\n",
    "pd.options.display.float_format = '{:,.0f}'.format\n",
    "\n",
    "# calculate avg crime count for years 1970 - 2014 for each state\n",
    "ca_avg_rate = ten_state_crime[\"California\"].loc[10:54].mean().astype(int).round(decimals = 0)\n",
    "fl_avg_rate = ten_state_crime[\"Florida\"].loc[10:54].mean().astype(int).round(decimals = 0)\n",
    "tx_avg_rate = ten_state_crime[\"Texas\"].loc[10:54].mean().astype(int).round(decimals = 0)\n",
    "ga_avg_rate = ten_state_crime[\"Georgia\"].loc[10:54].mean().astype(int).round(decimals = 0)\n",
    "oh_avg_rate = ten_state_crime[\"Ohio\"].loc[10:54].mean().astype(int).round(decimals = 0)\n",
    "nh_avg_rate = ten_state_crime[\"New Hampshire\"].loc[10:54].mean().astype(int).round(decimals = 0)\n",
    "me_avg_rate = ten_state_crime[\"Maine\"].loc[10:54].mean().astype(int).round(decimals = 0)\n",
    "ri_avg_rate = ten_state_crime[\"Rhode Island\"].loc[10:54].mean().astype(int).round(decimals = 0)\n",
    "ak_avg_rate = ten_state_crime[\"Arkansas\"].loc[10:54].mean().astype(int).round(decimals = 0)\n",
    "vt_avg_rate = ten_state_crime[\"Vermont\"].loc[10:54].mean().astype(int).round(decimals = 0)\n"
   ]
  },
  {
   "cell_type": "code",
   "execution_count": null,
   "metadata": {},
   "outputs": [],
   "source": [
    "crime_summary_table = pd.DataFrame({\"California\": ca_avg_rate,\n",
    "                                    \"Florida\": [fl_avg_rate],\n",
    "                                    \"Texas\": [tx_avg_rate],\n",
    "                                    \"Georgia\": [ga_avg_rate],\n",
    "                                    \"Ohio\": [oh_avg_rate],\n",
    "                                    \"New Hampshire\": [nh_avg_rate],\n",
    "                                    \"Maine\": [me_avg_rate],\n",
    "                                    \"Rhode Island\": [ri_avg_rate],\n",
    "                                    \"Arkansas\": [ak_avg_rate],\n",
    "                                    \"Vermont\": [vt_avg_rate]})\n",
    "\n",
    "crime_summary_table\n",
    "states = [\"California\", \"Florida\", \"Texas\", \"Ohio\", \"Georgia\", \"Arkansas\", \"Rhode Island\", \"Maine\", \"New Hampshire\", \"Vermont\"]\n",
    "avg_rates = [ca_avg_rate, fl_avg_rate, tx_avg_rate, oh_avg_rate, ga_avg_rate, ak_avg_rate, ri_avg_rate, me_avg_rate, nh_avg_rate, vt_avg_rate]\n",
    "\n",
    "plt.rcdefaults()\n",
    "fig, ax = plt.subplots()\n",
    "\n",
    "ax.barh(states, avg_rates, align='center',\n",
    "        color='teal', ecolor='black')\n",
    "ax.set_xlabel(\"crimes per year\")\n",
    "ax.set_title(\"Avg # of crimes per year from 1970 - 2014\")\n",
    "plt.savefig(\"crimes per year\")\n",
    "plt.show()\n"
   ]
  },
  {
   "cell_type": "code",
   "execution_count": null,
   "metadata": {},
   "outputs": [],
   "source": [
    "# filter number format\n",
    "pd.options.display.float_format = '{:.2f}'.format\n",
    "\n",
    "\n",
    "# filtered dataframe to Percent of adults completing bachelor's degree or higher and State\n",
    "ten_state_education = education_df[[\"State\",\n",
    "                                    \"Percent of adults completing four years of college or higher, 1970\", \n",
    "                                    \"Percent of adults completing four years of college or higher, 1980\", \n",
    "                                    \"Percent of adults with a bachelor's degree or higher, 1990\", \n",
    "                                    \"Percent of adults with a bachelor's degree or higher, 2000\", \n",
    "                                    \"Percent of adults with a bachelor's degree or higher, 2013-17\", \n",
    "                                    ]]\n",
    "#Calculate the average perecent of adults completing bachelor's degree or higher for 10 states: top 5 states (CA, FL, TX, GA, OH) and bottom states (NH, ME, RI, AK, VT)\n",
    "\n",
    "# Arkansas\n",
    "ak_education = ten_state_education[ten_state_education[\"State\"] == \"AK\"]\n",
    "ak_1970 = ten_state_education.loc[ten_state_education[\"State\"] == \"AK\", \"Percent of adults completing four years of college or higher, 1970\"]\n",
    "ak_1980 = ten_state_education.loc[ten_state_education[\"State\"] == \"AK\", \"Percent of adults completing four years of college or higher, 1980\"]\n",
    "ak_1990 = ten_state_education.loc[ten_state_education[\"State\"] == \"AK\", \"Percent of adults with a bachelor's degree or higher, 1990\"]\n",
    "ak_2000 = ten_state_education.loc[ten_state_education[\"State\"] == \"AK\", \"Percent of adults with a bachelor's degree or higher, 2000\"]\n",
    "ak_2013_17 = ten_state_education.loc[ten_state_education[\"State\"] == \"AK\", \"Percent of adults with a bachelor's degree or higher, 2013-17\"]\n",
    "ak_1970_clean = ak_1970.dropna(how='NaN').mean()\n",
    "ak_1980_clean = ak_1980.dropna(how='NaN').mean()\n",
    "ak_1990_clean = ak_1990.dropna(how='NaN').mean()\n",
    "ak_2000_clean = ak_2000.dropna(how='NaN').mean()\n",
    "ak_2013_17_clean = ak_2013_17.dropna(how='NaN').mean()\n",
    "\n",
    "# California\n",
    "ca_education = ten_state_education[ten_state_education[\"State\"] == \"CA\"]\n",
    "ca_1970 = ten_state_education.loc[ten_state_education[\"State\"] == \"CA\", \"Percent of adults completing four years of college or higher, 1970\"]\n",
    "ca_1980 = ten_state_education.loc[ten_state_education[\"State\"] == \"CA\", \"Percent of adults completing four years of college or higher, 1980\"]\n",
    "ca_1990 = ten_state_education.loc[ten_state_education[\"State\"] == \"CA\", \"Percent of adults with a bachelor's degree or higher, 1990\"]\n",
    "ca_2000 = ten_state_education.loc[ten_state_education[\"State\"] == \"CA\", \"Percent of adults with a bachelor's degree or higher, 2000\"]\n",
    "ca_2013_17 = ten_state_education.loc[ten_state_education[\"State\"] == \"CA\", \"Percent of adults with a bachelor's degree or higher, 2013-17\"]\n",
    "ca_1970_clean = ca_1970.dropna(how='NaN').mean()\n",
    "ca_1980_clean = ca_1980.dropna(how='NaN').mean()\n",
    "ca_1990_clean = ca_1990.dropna(how='NaN').mean()\n",
    "ca_2000_clean = ca_2000.dropna(how='NaN').mean()\n",
    "ca_2013_17_clean = ca_2013_17.dropna(how='NaN').mean()\n",
    "\n",
    "# Florida\n",
    "fl_education = ten_state_education[ten_state_education[\"State\"] == \"FL\"]\n",
    "fl_1970 = ten_state_education.loc[ten_state_education[\"State\"] == \"FL\", \"Percent of adults completing four years of college or higher, 1970\"]\n",
    "fl_1980 = ten_state_education.loc[ten_state_education[\"State\"] == \"FL\", \"Percent of adults completing four years of college or higher, 1980\"]\n",
    "fl_1990 = ten_state_education.loc[ten_state_education[\"State\"] == \"FL\", \"Percent of adults with a bachelor's degree or higher, 1990\"]\n",
    "fl_2000 = ten_state_education.loc[ten_state_education[\"State\"] == \"FL\", \"Percent of adults with a bachelor's degree or higher, 2000\"]\n",
    "fl_2013_17 = ten_state_education.loc[ten_state_education[\"State\"] == \"FL\", \"Percent of adults with a bachelor's degree or higher, 2013-17\"]\n",
    "fl_1970_clean = fl_1970.dropna(how='NaN').mean()\n",
    "fl_1980_clean = fl_1980.dropna(how='NaN').mean()\n",
    "fl_1990_clean = fl_1990.dropna(how='NaN').mean()\n",
    "fl_2000_clean = fl_2000.dropna(how='NaN').mean()\n",
    "fl_2013_17_clean = fl_2013_17.dropna(how='NaN').mean()\n",
    "\n",
    "# Texas\n",
    "tx_education = ten_state_education[ten_state_education[\"State\"] == \"TX\"]\n",
    "tx_1970 = ten_state_education.loc[ten_state_education[\"State\"] == \"TX\", \"Percent of adults completing four years of college or higher, 1970\"]\n",
    "tx_1980 = ten_state_education.loc[ten_state_education[\"State\"] == \"TX\", \"Percent of adults completing four years of college or higher, 1980\"]\n",
    "tx_1990 = ten_state_education.loc[ten_state_education[\"State\"] == \"TX\", \"Percent of adults with a bachelor's degree or higher, 1990\"]\n",
    "tx_2000 = ten_state_education.loc[ten_state_education[\"State\"] == \"TX\", \"Percent of adults with a bachelor's degree or higher, 2000\"]\n",
    "tx_2013_17 = ten_state_education.loc[ten_state_education[\"State\"] == \"TX\", \"Percent of adults with a bachelor's degree or higher, 2013-17\"]\n",
    "tx_1970_clean = tx_1970.dropna(how='NaN').mean()\n",
    "tx_1980_clean = tx_1980.dropna(how='NaN').mean()\n",
    "tx_1990_clean = tx_1990.dropna(how='NaN').mean()\n",
    "tx_2000_clean = tx_2000.dropna(how='NaN').mean()\n",
    "tx_2013_17_clean = tx_2013_17.dropna(how='NaN').mean()\n",
    "\n",
    "# Georgia\n",
    "ga_education = ten_state_education[ten_state_education[\"State\"] == \"GA\"]\n",
    "ga_1970 = ten_state_education.loc[ten_state_education[\"State\"] == \"GA\", \"Percent of adults completing four years of college or higher, 1970\"]\n",
    "ga_1980 = ten_state_education.loc[ten_state_education[\"State\"] == \"GA\", \"Percent of adults completing four years of college or higher, 1980\"]\n",
    "ga_1990 = ten_state_education.loc[ten_state_education[\"State\"] == \"GA\", \"Percent of adults with a bachelor's degree or higher, 1990\"]\n",
    "ga_2000 = ten_state_education.loc[ten_state_education[\"State\"] == \"GA\", \"Percent of adults with a bachelor's degree or higher, 2000\"]\n",
    "ga_2013_17 = ten_state_education.loc[ten_state_education[\"State\"] == \"GA\", \"Percent of adults with a bachelor's degree or higher, 2013-17\"]\n",
    "ga_1970_clean = ga_1970.dropna(how='NaN').mean()\n",
    "ga_1980_clean = ga_1980.dropna(how='NaN').mean()\n",
    "ga_1990_clean = ga_1990.dropna(how='NaN').mean()\n",
    "ga_2000_clean = ga_2000.dropna(how='NaN').mean()\n",
    "ga_2013_17_clean = ga_2013_17.dropna(how='NaN').mean()\n",
    "\n",
    "\n",
    "# Ohio\n",
    "oh_education = ten_state_education[ten_state_education[\"State\"] == \"OH\"]\n",
    "oh_1970 = ten_state_education.loc[ten_state_education[\"State\"] == \"OH\", \"Percent of adults completing four years of college or higher, 1970\"]\n",
    "oh_1980 = ten_state_education.loc[ten_state_education[\"State\"] == \"OH\", \"Percent of adults completing four years of college or higher, 1980\"]\n",
    "oh_1990 = ten_state_education.loc[ten_state_education[\"State\"] == \"OH\", \"Percent of adults with a bachelor's degree or higher, 1990\"]\n",
    "oh_2000 = ten_state_education.loc[ten_state_education[\"State\"] == \"OH\", \"Percent of adults with a bachelor's degree or higher, 2000\"]\n",
    "oh_2013_17 = ten_state_education.loc[ten_state_education[\"State\"] == \"OH\", \"Percent of adults with a bachelor's degree or higher, 2013-17\"]\n",
    "oh_1970_clean = oh_1970.dropna(how='NaN').mean()\n",
    "oh_1980_clean = oh_1980.dropna(how='NaN').mean()\n",
    "oh_1990_clean = oh_1990.dropna(how='NaN').mean()\n",
    "oh_2000_clean = oh_2000.dropna(how='NaN').mean()\n",
    "oh_2013_17_clean = oh_2013_17.dropna(how='NaN').mean()\n",
    "\n",
    "# New Hampshire\n",
    "nh_education = ten_state_education[ten_state_education[\"State\"] == \"NH\"]\n",
    "nh_1970 = ten_state_education.loc[ten_state_education[\"State\"] == \"NH\", \"Percent of adults completing four years of college or higher, 1970\"]\n",
    "nh_1980 = ten_state_education.loc[ten_state_education[\"State\"] == \"NH\", \"Percent of adults completing four years of college or higher, 1980\"]\n",
    "nh_1990 = ten_state_education.loc[ten_state_education[\"State\"] == \"NH\", \"Percent of adults with a bachelor's degree or higher, 1990\"]\n",
    "nh_2000 = ten_state_education.loc[ten_state_education[\"State\"] == \"NH\", \"Percent of adults with a bachelor's degree or higher, 2000\"]\n",
    "nh_2013_17 = ten_state_education.loc[ten_state_education[\"State\"] == \"NH\", \"Percent of adults with a bachelor's degree or higher, 2013-17\"]\n",
    "nh_1970_clean = nh_1970.dropna(how='NaN').mean()\n",
    "nh_1980_clean = nh_1980.dropna(how='NaN').mean()\n",
    "nh_1990_clean = nh_1990.dropna(how='NaN').mean()\n",
    "nh_2000_clean = nh_2000.dropna(how='NaN').mean()\n",
    "nh_2013_17_clean = nh_2013_17.dropna(how='NaN').mean()\n",
    "\n",
    "# Maine\n",
    "me_education = ten_state_education[ten_state_education[\"State\"] == \"ME\"]\n",
    "me_1970 = ten_state_education.loc[ten_state_education[\"State\"] == \"ME\", \"Percent of adults completing four years of college or higher, 1970\"]\n",
    "me_1980 = ten_state_education.loc[ten_state_education[\"State\"] == \"ME\", \"Percent of adults completing four years of college or higher, 1980\"]\n",
    "me_1990 = ten_state_education.loc[ten_state_education[\"State\"] == \"ME\", \"Percent of adults with a bachelor's degree or higher, 1990\"]\n",
    "me_2000 = ten_state_education.loc[ten_state_education[\"State\"] == \"ME\", \"Percent of adults with a bachelor's degree or higher, 2000\"]\n",
    "me_2013_17 = ten_state_education.loc[ten_state_education[\"State\"] == \"ME\", \"Percent of adults with a bachelor's degree or higher, 2013-17\"]\n",
    "me_1970_clean = me_1970.dropna(how='NaN').mean()\n",
    "me_1980_clean = me_1980.dropna(how='NaN').mean()\n",
    "me_1990_clean = me_1990.dropna(how='NaN').mean()\n",
    "me_2000_clean = me_2000.dropna(how='NaN').mean()\n",
    "me_2013_17_clean = me_2013_17.dropna(how='NaN').mean()\n",
    "\n",
    "# Rhode Island\n",
    "ri_education = ten_state_education[ten_state_education[\"State\"] == \"RI\"]\n",
    "ri_1970 = ten_state_education.loc[ten_state_education[\"State\"] == \"RI\", \"Percent of adults completing four years of college or higher, 1970\"]\n",
    "ri_1980 = ten_state_education.loc[ten_state_education[\"State\"] == \"RI\", \"Percent of adults completing four years of college or higher, 1980\"]\n",
    "ri_1990 = ten_state_education.loc[ten_state_education[\"State\"] == \"RI\", \"Percent of adults with a bachelor's degree or higher, 1990\"]\n",
    "ri_2000 = ten_state_education.loc[ten_state_education[\"State\"] == \"RI\", \"Percent of adults with a bachelor's degree or higher, 2000\"]\n",
    "ri_2013_17 = ten_state_education.loc[ten_state_education[\"State\"] == \"RI\", \"Percent of adults with a bachelor's degree or higher, 2013-17\"]\n",
    "ri_1970_clean = ri_1970.mean()\n",
    "ri_1980_clean = ri_1980.dropna(how='NaN').mean()\n",
    "ri_1990_clean = ri_1990.dropna(how='NaN').mean()\n",
    "ri_2000_clean = ri_2000.dropna(how='NaN').mean()\n",
    "ri_2013_17_clean = ri_2013_17.dropna(how='NaN').mean()\n",
    "\n",
    "# Vermont\n",
    "vt_education = ten_state_education[ten_state_education[\"State\"] == \"VT\"]\n",
    "vt_1970 = ten_state_education.loc[ten_state_education[\"State\"] == \"VT\", \"Percent of adults completing four years of college or higher, 1970\"]\n",
    "vt_1980 = ten_state_education.loc[ten_state_education[\"State\"] == \"VT\", \"Percent of adults completing four years of college or higher, 1980\"]\n",
    "vt_1990 = ten_state_education.loc[ten_state_education[\"State\"] == \"VT\", \"Percent of adults with a bachelor's degree or higher, 1990\"]\n",
    "vt_2000 = ten_state_education.loc[ten_state_education[\"State\"] == \"VT\", \"Percent of adults with a bachelor's degree or higher, 2000\"]\n",
    "vt_2013_17 = ten_state_education.loc[ten_state_education[\"State\"] == \"VT\", \"Percent of adults with a bachelor's degree or higher, 2013-17\"]\n",
    "vt_1970_clean = vt_1970.dropna(how='NaN').mean()\n",
    "vt_1980_clean = vt_1980.dropna(how='NaN').mean()\n",
    "vt_1990_clean = vt_1990.dropna(how='NaN').mean()\n",
    "vt_2000_clean = vt_2000.dropna(how='NaN').mean()\n",
    "vt_2013_17_clean = vt_2013_17.dropna(how='NaN').mean()\n"
   ]
  },
  {
   "cell_type": "code",
   "execution_count": null,
   "metadata": {},
   "outputs": [],
   "source": [
    "# Create a new dataframe based on calculations above to show the average perecent of adults completing bachelor's degree or higher for all 10 states and organize top 5 ranked states (CA, FL, TX, GA, OH) on top and bottom 5 ranked states (NH, ME, RI, AK, VT)\n",
    "\n",
    "final_education_data = pd.DataFrame({\n",
    "    \"State\":[\"California\",\"Florida\",\"Texas\",\"Georgia\",\"Ohio\",\"New Hampshire\",\"Maine\",\"Rhode Island\",\"Arkansas\",\"Vermont\"],\n",
    "    \"1970\":[ca_1970_clean, fl_1970_clean, tx_1970_clean, ga_1970_clean, oh_1970_clean, nh_1970_clean, me_1970_clean, ri_1970_clean, ak_1970_clean, vt_1970_clean],\n",
    "    \"1980\":[ca_1980_clean, fl_1980_clean, tx_1980_clean, ga_1980_clean, oh_1980_clean, nh_1980_clean, me_1980_clean, ri_1980_clean, ak_1980_clean, vt_1980_clean],\n",
    "    \"1990\":[ca_1990_clean, fl_1990_clean, tx_1990_clean, ga_1990_clean, oh_1990_clean, nh_1990_clean, me_1990_clean, ri_1990_clean, ak_1990_clean, vt_1990_clean],\n",
    "    \"2000\":[ca_2000_clean, fl_2000_clean, tx_2000_clean, ga_2000_clean, oh_2000_clean, nh_2000_clean, me_2000_clean, ri_2000_clean, ak_2000_clean, vt_2000_clean],\n",
    "    \"2013-17\":[ca_2013_17_clean, fl_2013_17_clean, tx_2013_17_clean, ga_2013_17_clean, oh_2013_17_clean, nh_2013_17_clean, me_2013_17_clean, ri_2013_17_clean, ak_2013_17_clean, vt_2013_17_clean],\n",
    "})\n",
    "final_education_data\n",
    "\n",
    "sorted_df = final_education_data.sort_values(\"2013-17\")\n",
    "sorted_df\n"
   ]
  },
  {
   "cell_type": "code",
   "execution_count": null,
   "metadata": {},
   "outputs": [],
   "source": [
    "n = 10\n",
    "ind = np.arange(n)\n",
    "width = .35\n",
    "\n",
    "final_education_df.plot(kind='bar', stacked=True)\n",
    "plt.legend(loc='lower right')\n",
    "plt.xticks(ind, final_education_data[\"State\"])\n",
    "plt.title(\"Percent of adults with a bachelor's degree or higher\")\n",
    "plt.savefig(\"education\")\n"
   ]
  },
  {
   "cell_type": "code",
   "execution_count": null,
   "metadata": {},
   "outputs": [],
   "source": [
    "# format number format\n",
    "pd.options.display.float_format = '{:.0f}'.format\n",
    "\n",
    "\n",
    "# Income data preview \n",
    "income_df = pd.read_csv(\"income_per_capita.csv\")\n",
    "filtered_list = [\"California\", \"Florida\", \"Texas\", \"Georgia\", \"Ohio\", \"New Hampshire\", \"Maine\", \"Rhode Island\", \"Arkansas\", \"Vermont\"]\n",
    "\n",
    "ten_states_df = income_df[income_df[\"State\"].isin(filtered_list)]\n",
    "\n",
    "ten_states_df[\"Avg\"] = ten_states_df.mean(axis = 1).astype(int).round(decimals = 0)\n",
    "ten_states_df"
   ]
  },
  {
   "cell_type": "code",
   "execution_count": null,
   "metadata": {},
   "outputs": [],
   "source": []
  }
 ],
 "metadata": {
  "kernelspec": {
   "display_name": "Python [conda env:pandas] *",
   "language": "python",
   "name": "conda-env-pandas-py"
  },
  "language_info": {
   "codemirror_mode": {
    "name": "ipython",
    "version": 3
   },
   "file_extension": ".py",
   "mimetype": "text/x-python",
   "name": "python",
   "nbconvert_exporter": "python",
   "pygments_lexer": "ipython3",
   "version": "3.6.9"
  }
 },
 "nbformat": 4,
 "nbformat_minor": 2
}
